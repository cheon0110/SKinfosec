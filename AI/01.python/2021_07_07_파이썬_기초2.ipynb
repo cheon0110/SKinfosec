{
  "nbformat": 4,
  "nbformat_minor": 0,
  "metadata": {
    "colab": {
      "name": "2021-07-07 : 파이썬 기초2",
      "provenance": [],
      "collapsed_sections": [],
      "authorship_tag": "ABX9TyNQQ00gEblDZmbZCKF6NjS4",
      "include_colab_link": true
    },
    "kernelspec": {
      "name": "python3",
      "display_name": "Python 3"
    },
    "language_info": {
      "name": "python"
    }
  },
  "cells": [
    {
      "cell_type": "markdown",
      "metadata": {
        "id": "view-in-github",
        "colab_type": "text"
      },
      "source": [
        "<a href=\"https://colab.research.google.com/github/cheon0110/SKinfosec/blob/main/AI/01.python/2021_07_07_%ED%8C%8C%EC%9D%B4%EC%8D%AC_%EA%B8%B0%EC%B4%882.ipynb\" target=\"_parent\"><img src=\"https://colab.research.google.com/assets/colab-badge.svg\" alt=\"Open In Colab\"/></a>"
      ]
    },
    {
      "cell_type": "code",
      "metadata": {
        "colab": {
          "base_uri": "https://localhost:8080/"
        },
        "id": "-HWjodOrrSCu",
        "outputId": "a169e149-9e17-4c5c-b45e-e3d8c37c8bcf"
      },
      "source": [
        "number = input(\"정수 입력 > \")"
      ],
      "execution_count": null,
      "outputs": [
        {
          "output_type": "stream",
          "text": [
            "정수 입력 > 55\n"
          ],
          "name": "stdout"
        }
      ]
    },
    {
      "cell_type": "code",
      "metadata": {
        "id": "pkn9b4disbjS"
      },
      "source": [
        "last_character = number[-1]"
      ],
      "execution_count": null,
      "outputs": []
    },
    {
      "cell_type": "code",
      "metadata": {
        "id": "HkVQl-dbshEk"
      },
      "source": [
        "if last_character in \"02468\":\n",
        "    print(\"짝수\")"
      ],
      "execution_count": null,
      "outputs": []
    },
    {
      "cell_type": "code",
      "metadata": {
        "colab": {
          "base_uri": "https://localhost:8080/"
        },
        "id": "dXvPcgmlsshc",
        "outputId": "0d4b742e-a66d-4a22-c2ab-0f5187e9d054"
      },
      "source": [
        "if last_character in \"13579\":\n",
        "    print(\"홀수\")"
      ],
      "execution_count": null,
      "outputs": [
        {
          "output_type": "stream",
          "text": [
            "홀수\n"
          ],
          "name": "stdout"
        }
      ]
    },
    {
      "cell_type": "code",
      "metadata": {
        "id": "KbWwfq_cswYz"
      },
      "source": [
        "number = int(number)"
      ],
      "execution_count": null,
      "outputs": []
    },
    {
      "cell_type": "code",
      "metadata": {
        "id": "Q-PYBuMTs3L-"
      },
      "source": [
        "if number % 2 == 0:\n",
        "    print(\"짝수\")"
      ],
      "execution_count": null,
      "outputs": []
    },
    {
      "cell_type": "code",
      "metadata": {
        "colab": {
          "base_uri": "https://localhost:8080/"
        },
        "id": "hsh3tb-is8X8",
        "outputId": "e73838ee-2bd7-4f05-f637-76b27c01e9c9"
      },
      "source": [
        "if number % 2 == 1:\n",
        "    print(\"홀수\")"
      ],
      "execution_count": null,
      "outputs": [
        {
          "output_type": "stream",
          "text": [
            "홀수\n"
          ],
          "name": "stdout"
        }
      ]
    },
    {
      "cell_type": "code",
      "metadata": {
        "id": "F_JNjBITs_jD"
      },
      "source": [
        "a = (input(\"> 1번째 숫자: \"))\n",
        "\n",
        "    "
      ],
      "execution_count": null,
      "outputs": []
    },
    {
      "cell_type": "code",
      "metadata": {
        "id": "dzQywa8GvB_U"
      },
      "source": [
        "import datetime"
      ],
      "execution_count": null,
      "outputs": []
    },
    {
      "cell_type": "code",
      "metadata": {
        "id": "tD4H1J9ivPuw"
      },
      "source": [
        "this_moment = datetime.datetime.now()"
      ],
      "execution_count": null,
      "outputs": []
    },
    {
      "cell_type": "code",
      "metadata": {
        "colab": {
          "base_uri": "https://localhost:8080/"
        },
        "id": "t9Q1c2xZvUDC",
        "outputId": "fc158975-2a2e-4783-fa9a-1fd0add8c0d0"
      },
      "source": [
        "this_moment"
      ],
      "execution_count": null,
      "outputs": [
        {
          "output_type": "execute_result",
          "data": {
            "text/plain": [
              "datetime.datetime(2021, 7, 6, 7, 35, 26, 345808)"
            ]
          },
          "metadata": {
            "tags": []
          },
          "execution_count": 101
        }
      ]
    },
    {
      "cell_type": "code",
      "metadata": {
        "colab": {
          "base_uri": "https://localhost:8080/",
          "height": 35
        },
        "id": "f9uV043RvlZA",
        "outputId": "8288802f-862b-439b-e9d8-befbd0a13a16"
      },
      "source": [
        "\"{}년, {}월, {}일, {}시, {}분, {}초\".format(\n",
        "                                      this_moment.year,\n",
        "                                      this_moment.month,\n",
        "                                      this_moment.day,\n",
        "                                      this_moment.hour,\n",
        "                                      this_moment.minute,\n",
        "                                      this_moment.second\n",
        ")"
      ],
      "execution_count": null,
      "outputs": [
        {
          "output_type": "execute_result",
          "data": {
            "application/vnd.google.colaboratory.intrinsic+json": {
              "type": "string"
            },
            "text/plain": [
              "'2021년, 7월, 6일, 7시, 35분, 26초'"
            ]
          },
          "metadata": {
            "tags": []
          },
          "execution_count": 102
        }
      ]
    },
    {
      "cell_type": "code",
      "metadata": {
        "colab": {
          "base_uri": "https://localhost:8080/"
        },
        "id": "zETZOQ87wVVh",
        "outputId": "522794aa-e3d6-440b-8552-ac1f701c2b27"
      },
      "source": [
        "if this_moment.hour < 12:\n",
        "    print(\"현재시각은 {}시로 오전\".format(this_moment.hour))"
      ],
      "execution_count": null,
      "outputs": [
        {
          "output_type": "stream",
          "text": [
            "현재시각은 7시로 오전\n"
          ],
          "name": "stdout"
        }
      ]
    },
    {
      "cell_type": "code",
      "metadata": {
        "colab": {
          "base_uri": "https://localhost:8080/"
        },
        "id": "UFSZCTr_wiPh",
        "outputId": "60ba93c4-b922-4920-c8e4-337d9146e544"
      },
      "source": [
        "if 6<= this_moment.month <= 8:\n",
        "    print(\"현재 계절은 {}월로 여름입니다\".format(this_moment.month))"
      ],
      "execution_count": null,
      "outputs": [
        {
          "output_type": "stream",
          "text": [
            "현재 계절은 7월로 여름입니다\n"
          ],
          "name": "stdout"
        }
      ]
    },
    {
      "cell_type": "code",
      "metadata": {
        "colab": {
          "base_uri": "https://localhost:8080/"
        },
        "id": "3v5dk6fuw6Ge",
        "outputId": "0a9fdbf9-fb18-449d-98c3-cd0f6cac887e"
      },
      "source": [
        "number = input(\"정수 입력\")"
      ],
      "execution_count": null,
      "outputs": [
        {
          "output_type": "stream",
          "text": [
            "정수 입력123\n"
          ],
          "name": "stdout"
        }
      ]
    },
    {
      "cell_type": "code",
      "metadata": {
        "id": "qICTLocfxCS3"
      },
      "source": [
        "last_character = number[-1]"
      ],
      "execution_count": null,
      "outputs": []
    },
    {
      "cell_type": "code",
      "metadata": {
        "id": "tsYAtoJ-xH2_"
      },
      "source": [
        "last_number = int(last_character)"
      ],
      "execution_count": null,
      "outputs": []
    },
    {
      "cell_type": "code",
      "metadata": {
        "colab": {
          "base_uri": "https://localhost:8080/"
        },
        "id": "XQtrvcwZxKyi",
        "outputId": "85297e1c-a121-4ea9-9d51-a7b6f1981b6e"
      },
      "source": [
        "last_number"
      ],
      "execution_count": null,
      "outputs": [
        {
          "output_type": "execute_result",
          "data": {
            "text/plain": [
              "3"
            ]
          },
          "metadata": {
            "tags": []
          },
          "execution_count": 110
        }
      ]
    },
    {
      "cell_type": "code",
      "metadata": {
        "id": "foKsR0wmxMET"
      },
      "source": [
        "if last_number == 0 \\\n",
        "  or last_number == 2 :\n",
        "  print(\"짝수\")"
      ],
      "execution_count": null,
      "outputs": []
    },
    {
      "cell_type": "code",
      "metadata": {
        "colab": {
          "base_uri": "https://localhost:8080/"
        },
        "id": "qSh4hX_XxVeq",
        "outputId": "1af4cc88-ddd8-4a04-c406-296e9d2ced5b"
      },
      "source": [
        "if last_number == 1 \\\n",
        "  or last_number == 3 :\n",
        "  print(\"홀수\")"
      ],
      "execution_count": null,
      "outputs": [
        {
          "output_type": "stream",
          "text": [
            "홀수\n"
          ],
          "name": "stdout"
        }
      ]
    },
    {
      "cell_type": "code",
      "metadata": {
        "colab": {
          "base_uri": "https://localhost:8080/"
        },
        "id": "fKYLkLBQxZH0",
        "outputId": "bc4c3ccd-b597-41bd-cfb8-be8e31a039af"
      },
      "source": [
        "number = input(\"정수 입력 >\")"
      ],
      "execution_count": null,
      "outputs": [
        {
          "output_type": "stream",
          "text": [
            "정수 입력 >123\n"
          ],
          "name": "stdout"
        }
      ]
    },
    {
      "cell_type": "code",
      "metadata": {
        "id": "LxuXmtOsxdSX"
      },
      "source": [
        "if last_character in \"02468\":\n",
        "  print(\"짝수\")"
      ],
      "execution_count": null,
      "outputs": []
    },
    {
      "cell_type": "code",
      "metadata": {
        "colab": {
          "base_uri": "https://localhost:8080/"
        },
        "id": "UaDUIul0xsWj",
        "outputId": "84bc4e59-c756-4fed-ef14-ec74f22f7ec8"
      },
      "source": [
        "if last_character in \"13579\":\n",
        "  print(\"홀수\")"
      ],
      "execution_count": null,
      "outputs": [
        {
          "output_type": "stream",
          "text": [
            "홀수\n"
          ],
          "name": "stdout"
        }
      ]
    },
    {
      "cell_type": "code",
      "metadata": {
        "colab": {
          "base_uri": "https://localhost:8080/"
        },
        "id": "oVDkznm4xv_t",
        "outputId": "cc94d7c9-8a85-4472-8d9d-48d23bc2bcf0"
      },
      "source": [
        "number = input(\"정수 입력\")"
      ],
      "execution_count": null,
      "outputs": [
        {
          "output_type": "stream",
          "text": [
            "정수 입력0110\n"
          ],
          "name": "stdout"
        }
      ]
    },
    {
      "cell_type": "code",
      "metadata": {
        "colab": {
          "base_uri": "https://localhost:8080/",
          "height": 35
        },
        "id": "tVJ-dogNx_nt",
        "outputId": "695e4171-b1b3-4348-dfcb-a6208ab20d19"
      },
      "source": [
        "number"
      ],
      "execution_count": null,
      "outputs": [
        {
          "output_type": "execute_result",
          "data": {
            "application/vnd.google.colaboratory.intrinsic+json": {
              "type": "string"
            },
            "text/plain": [
              "'0110'"
            ]
          },
          "metadata": {
            "tags": []
          },
          "execution_count": 121
        }
      ]
    },
    {
      "cell_type": "code",
      "metadata": {
        "id": "CB5zkjPFyCcQ"
      },
      "source": [
        "number = int(number)"
      ],
      "execution_count": null,
      "outputs": []
    },
    {
      "cell_type": "code",
      "metadata": {
        "colab": {
          "base_uri": "https://localhost:8080/"
        },
        "id": "HXj9umSfyFdi",
        "outputId": "44a95a0b-c254-49ac-b0c9-69cc5efa8202"
      },
      "source": [
        "number"
      ],
      "execution_count": null,
      "outputs": [
        {
          "output_type": "execute_result",
          "data": {
            "text/plain": [
              "110"
            ]
          },
          "metadata": {
            "tags": []
          },
          "execution_count": 123
        }
      ]
    },
    {
      "cell_type": "code",
      "metadata": {
        "colab": {
          "base_uri": "https://localhost:8080/"
        },
        "id": "X_4AvhMyyHBk",
        "outputId": "96f8afa6-3233-49ca-e5e4-b3d6e801473a"
      },
      "source": [
        "if number % 2 == 0:\n",
        "    print(\"짝수\")"
      ],
      "execution_count": null,
      "outputs": [
        {
          "output_type": "stream",
          "text": [
            "짝수\n"
          ],
          "name": "stdout"
        }
      ]
    },
    {
      "cell_type": "code",
      "metadata": {
        "colab": {
          "base_uri": "https://localhost:8080/"
        },
        "id": "mWO0nH6QyK2q",
        "outputId": "e2a78c0e-8764-40ac-bc68-2c8fb17cf4f1"
      },
      "source": [
        "if number > 0: \n",
        "    print(\"양수\")"
      ],
      "execution_count": null,
      "outputs": [
        {
          "output_type": "stream",
          "text": [
            "양수\n"
          ],
          "name": "stdout"
        }
      ]
    },
    {
      "cell_type": "code",
      "metadata": {
        "id": "oNZtigE8zwew"
      },
      "source": [
        "if number < 0:\n",
        "    print(\"음수\")"
      ],
      "execution_count": null,
      "outputs": []
    },
    {
      "cell_type": "code",
      "metadata": {
        "colab": {
          "base_uri": "https://localhost:8080/"
        },
        "id": "MVaFd5UozzCC",
        "outputId": "dfef1fb1-60f6-413e-e2c8-05ecc70c86a5"
      },
      "source": [
        "a = (input(\"> 1번째 숫자: \"))"
      ],
      "execution_count": null,
      "outputs": [
        {
          "output_type": "stream",
          "text": [
            "> 1번째 숫자: 1\n"
          ],
          "name": "stdout"
        }
      ]
    },
    {
      "cell_type": "code",
      "metadata": {
        "id": "ATTmjJyn2LxI"
      },
      "source": [
        "string = \"안녕\""
      ],
      "execution_count": null,
      "outputs": []
    },
    {
      "cell_type": "code",
      "metadata": {
        "id": "85dQQI0F3rYB"
      },
      "source": [
        "string += \"1\""
      ],
      "execution_count": null,
      "outputs": []
    },
    {
      "cell_type": "code",
      "metadata": {
        "colab": {
          "base_uri": "https://localhost:8080/",
          "height": 35
        },
        "id": "F0JKey9Z3vYe",
        "outputId": "2d578a99-cbea-41b4-b6ad-3814e03a6139"
      },
      "source": [
        "string"
      ],
      "execution_count": null,
      "outputs": [
        {
          "output_type": "execute_result",
          "data": {
            "application/vnd.google.colaboratory.intrinsic+json": {
              "type": "string"
            },
            "text/plain": [
              "'안녕1'"
            ]
          },
          "metadata": {
            "tags": []
          },
          "execution_count": 142
        }
      ]
    },
    {
      "cell_type": "code",
      "metadata": {
        "colab": {
          "base_uri": "https://localhost:8080/",
          "height": 53
        },
        "id": "6oC7B_OC3wdG",
        "outputId": "e60b9c82-dd7f-445b-e334-7b4c1a54c822"
      },
      "source": [
        "input(\"답을 구하시오\")"
      ],
      "execution_count": null,
      "outputs": [
        {
          "output_type": "stream",
          "text": [
            "답을 구하시오11\n"
          ],
          "name": "stdout"
        },
        {
          "output_type": "execute_result",
          "data": {
            "application/vnd.google.colaboratory.intrinsic+json": {
              "type": "string"
            },
            "text/plain": [
              "'11'"
            ]
          },
          "metadata": {
            "tags": []
          },
          "execution_count": 144
        }
      ]
    },
    {
      "cell_type": "code",
      "metadata": {
        "colab": {
          "base_uri": "https://localhost:8080/",
          "height": 53
        },
        "id": "sb57FH9f34E-",
        "outputId": "6789dc34-281b-4f24-d90d-bb4c50607ba9"
      },
      "source": [
        "input(\"인사말을 입력> \")"
      ],
      "execution_count": null,
      "outputs": [
        {
          "output_type": "stream",
          "text": [
            "인사말을 입력> ㅎㅇㅎㅇ\n"
          ],
          "name": "stdout"
        },
        {
          "output_type": "execute_result",
          "data": {
            "application/vnd.google.colaboratory.intrinsic+json": {
              "type": "string"
            },
            "text/plain": [
              "'ㅎㅇㅎㅇ'"
            ]
          },
          "metadata": {
            "tags": []
          },
          "execution_count": 145
        }
      ]
    },
    {
      "cell_type": "code",
      "metadata": {
        "colab": {
          "base_uri": "https://localhost:8080/"
        },
        "id": "uqsSD12N4GWZ",
        "outputId": "683f017e-69e2-4de4-c386-b352fa5d26a2"
      },
      "source": [
        "string = input(\"인사말 입력\")"
      ],
      "execution_count": null,
      "outputs": [
        {
          "output_type": "stream",
          "text": [
            "인사말 입력ㅎㅇㅎㅇㅎㅇ\n"
          ],
          "name": "stdout"
        }
      ]
    },
    {
      "cell_type": "code",
      "metadata": {
        "colab": {
          "base_uri": "https://localhost:8080/"
        },
        "id": "HXdXV8wH4WT2",
        "outputId": "14684eef-e715-4751-b38b-eea31cb58dbe"
      },
      "source": [
        "print(string)"
      ],
      "execution_count": null,
      "outputs": [
        {
          "output_type": "stream",
          "text": [
            "ㅎㅇㅎㅇㅎㅇ\n"
          ],
          "name": "stdout"
        }
      ]
    },
    {
      "cell_type": "code",
      "metadata": {
        "colab": {
          "base_uri": "https://localhost:8080/"
        },
        "id": "ya6wt57u4Z2Z",
        "outputId": "c7d568bd-4461-4dc7-8879-3788c7ff10a8"
      },
      "source": [
        "print(type(string))"
      ],
      "execution_count": null,
      "outputs": [
        {
          "output_type": "stream",
          "text": [
            "<class 'str'>\n"
          ],
          "name": "stdout"
        }
      ]
    },
    {
      "cell_type": "code",
      "metadata": {
        "colab": {
          "base_uri": "https://localhost:8080/"
        },
        "id": "YU3Nz-F04dsr",
        "outputId": "bfa7e4b4-6ad2-415c-86cb-9e100efaa4a4"
      },
      "source": [
        "string = input(\"입력> \")"
      ],
      "execution_count": null,
      "outputs": [
        {
          "output_type": "stream",
          "text": [
            "입력> ㅎㅇㅎㅇ\n"
          ],
          "name": "stdout"
        }
      ]
    },
    {
      "cell_type": "code",
      "metadata": {
        "colab": {
          "base_uri": "https://localhost:8080/"
        },
        "id": "COSt_I4Y4rFw",
        "outputId": "89ce6eff-6840-4445-b093-eae109fdb31f"
      },
      "source": [
        "print(\"인사:\",string)"
      ],
      "execution_count": null,
      "outputs": [
        {
          "output_type": "stream",
          "text": [
            "인사: ㅎㅇㅎㅇ\n"
          ],
          "name": "stdout"
        }
      ]
    },
    {
      "cell_type": "code",
      "metadata": {
        "colab": {
          "base_uri": "https://localhost:8080/"
        },
        "id": "z_1T1zwp4yl2",
        "outputId": "99b01440-2d1f-42ac-e25b-601da9df22e0"
      },
      "source": [
        "print(\"타입 : \", type(string))"
      ],
      "execution_count": null,
      "outputs": [
        {
          "output_type": "stream",
          "text": [
            "타입 :  <class 'str'>\n"
          ],
          "name": "stdout"
        }
      ]
    },
    {
      "cell_type": "code",
      "metadata": {
        "colab": {
          "base_uri": "https://localhost:8080/"
        },
        "id": "vRX2hZBZ44ZY",
        "outputId": "94e181e7-2bf9-494d-b0e1-cfe354f1bda6"
      },
      "source": [
        "string = input(\"숫자 :\")"
      ],
      "execution_count": null,
      "outputs": [
        {
          "output_type": "stream",
          "text": [
            "숫자 :100\n"
          ],
          "name": "stdout"
        }
      ]
    },
    {
      "cell_type": "code",
      "metadata": {
        "colab": {
          "base_uri": "https://localhost:8080/",
          "height": 35
        },
        "id": "--Q9Qbw65FpU",
        "outputId": "f7f7a282-851b-43e4-c71e-40f5c8ac1771"
      },
      "source": [
        "string "
      ],
      "execution_count": null,
      "outputs": [
        {
          "output_type": "execute_result",
          "data": {
            "application/vnd.google.colaboratory.intrinsic+json": {
              "type": "string"
            },
            "text/plain": [
              "'100'"
            ]
          },
          "metadata": {
            "tags": []
          },
          "execution_count": 154
        }
      ]
    },
    {
      "cell_type": "code",
      "metadata": {
        "colab": {
          "base_uri": "https://localhost:8080/",
          "height": 169
        },
        "id": "1gCV3L5s5KR5",
        "outputId": "583cb909-5275-415e-be23-526d266e9d37"
      },
      "source": [
        "# 문자열+숫자 =에러\n",
        "print(\"입력 + 100 :\", string + 100)"
      ],
      "execution_count": null,
      "outputs": [
        {
          "output_type": "error",
          "ename": "TypeError",
          "evalue": "ignored",
          "traceback": [
            "\u001b[0;31m---------------------------------------------------------------------------\u001b[0m",
            "\u001b[0;31mTypeError\u001b[0m                                 Traceback (most recent call last)",
            "\u001b[0;32m<ipython-input-155-1a203b766216>\u001b[0m in \u001b[0;36m<module>\u001b[0;34m()\u001b[0m\n\u001b[0;32m----> 1\u001b[0;31m \u001b[0mprint\u001b[0m\u001b[0;34m(\u001b[0m\u001b[0;34m\"입력 + 100 :\"\u001b[0m\u001b[0;34m,\u001b[0m \u001b[0mstring\u001b[0m \u001b[0;34m+\u001b[0m \u001b[0;36m100\u001b[0m\u001b[0;34m)\u001b[0m\u001b[0;34m\u001b[0m\u001b[0;34m\u001b[0m\u001b[0m\n\u001b[0m",
            "\u001b[0;31mTypeError\u001b[0m: can only concatenate str (not \"int\") to str"
          ]
        }
      ]
    },
    {
      "cell_type": "code",
      "metadata": {
        "colab": {
          "base_uri": "https://localhost:8080/"
        },
        "id": "8pkBn_PA5QD2",
        "outputId": "bf924a26-1e89-4a80-8169-97d3bbddbd9f"
      },
      "source": [
        "string_a = input(\"입력A> \")"
      ],
      "execution_count": null,
      "outputs": [
        {
          "output_type": "stream",
          "text": [
            "입력A> 100\n"
          ],
          "name": "stdout"
        }
      ]
    },
    {
      "cell_type": "code",
      "metadata": {
        "id": "FhdXtGT45gQn"
      },
      "source": [
        "int_a = int(string_a)"
      ],
      "execution_count": null,
      "outputs": []
    },
    {
      "cell_type": "code",
      "metadata": {
        "colab": {
          "base_uri": "https://localhost:8080/"
        },
        "id": "0BigoytE5mCO",
        "outputId": "f93eadaf-0aef-4321-cd43-e4ee6b59dbd9"
      },
      "source": [
        "string_b = input(\"입력B :\")"
      ],
      "execution_count": null,
      "outputs": [
        {
          "output_type": "stream",
          "text": [
            "입력B :200\n"
          ],
          "name": "stdout"
        }
      ]
    },
    {
      "cell_type": "code",
      "metadata": {
        "id": "Rm7TpUiU5uI9"
      },
      "source": [
        "int_b = int(string_b)"
      ],
      "execution_count": null,
      "outputs": []
    },
    {
      "cell_type": "code",
      "metadata": {
        "colab": {
          "base_uri": "https://localhost:8080/"
        },
        "id": "3dSgrsPf5ziY",
        "outputId": "f094d9f7-f011-4327-f17c-90f3e992454d"
      },
      "source": [
        "print(\"문자열 자료:\", string_a + string_b)"
      ],
      "execution_count": null,
      "outputs": [
        {
          "output_type": "stream",
          "text": [
            "문자열 자료: 100200\n"
          ],
          "name": "stdout"
        }
      ]
    },
    {
      "cell_type": "code",
      "metadata": {
        "colab": {
          "base_uri": "https://localhost:8080/"
        },
        "id": "4qPvVDon58g3",
        "outputId": "95934bf3-4eb8-4009-d5be-35b76d851417"
      },
      "source": [
        "print(\"숫자 : \", int_a + int_b)"
      ],
      "execution_count": null,
      "outputs": [
        {
          "output_type": "stream",
          "text": [
            "숫자 :  300\n"
          ],
          "name": "stdout"
        }
      ]
    },
    {
      "cell_type": "code",
      "metadata": {
        "id": "NeZB8V_b6Efd"
      },
      "source": [
        "output_a = int(\"52\")"
      ],
      "execution_count": null,
      "outputs": []
    },
    {
      "cell_type": "code",
      "metadata": {
        "id": "2tobfdiQ7fTz"
      },
      "source": [
        "output_b = float(\"52.123\")"
      ],
      "execution_count": null,
      "outputs": []
    },
    {
      "cell_type": "code",
      "metadata": {
        "colab": {
          "base_uri": "https://localhost:8080/"
        },
        "id": "kNbJFinl7j_N",
        "outputId": "15c8041f-92d4-47f5-d1d6-4d5da54a9b5f"
      },
      "source": [
        "print(type(output_a), output_a)"
      ],
      "execution_count": null,
      "outputs": [
        {
          "output_type": "stream",
          "text": [
            "<class 'int'> 52\n"
          ],
          "name": "stdout"
        }
      ]
    },
    {
      "cell_type": "code",
      "metadata": {
        "colab": {
          "base_uri": "https://localhost:8080/"
        },
        "id": "vBOMp0iG7tsk",
        "outputId": "a047fe5c-8e85-41d1-ca2f-241a53353435"
      },
      "source": [
        "print(type(output_b), output_b)"
      ],
      "execution_count": null,
      "outputs": [
        {
          "output_type": "stream",
          "text": [
            "<class 'float'> 52.123\n"
          ],
          "name": "stdout"
        }
      ]
    },
    {
      "cell_type": "code",
      "metadata": {
        "colab": {
          "base_uri": "https://localhost:8080/"
        },
        "id": "pEUXbyWS72RG",
        "outputId": "620e24d2-d64d-4160-fc13-81d00f6c6899"
      },
      "source": [
        "input_a = float(input(\"첫번째 숫자>\"))"
      ],
      "execution_count": null,
      "outputs": [
        {
          "output_type": "stream",
          "text": [
            "첫번째 숫자>1\n"
          ],
          "name": "stdout"
        }
      ]
    },
    {
      "cell_type": "code",
      "metadata": {
        "colab": {
          "base_uri": "https://localhost:8080/"
        },
        "id": "IHMksIvk7-Ib",
        "outputId": "57a3178c-23ee-4a7a-a540-2aee172c691e"
      },
      "source": [
        "input_b = float(input(\"두번째 숫자>\"))"
      ],
      "execution_count": null,
      "outputs": [
        {
          "output_type": "stream",
          "text": [
            "두번째 숫자>222\n"
          ],
          "name": "stdout"
        }
      ]
    },
    {
      "cell_type": "code",
      "metadata": {
        "colab": {
          "base_uri": "https://localhost:8080/"
        },
        "id": "uTNw-wc08HtZ",
        "outputId": "7e064557-31e7-48f0-b535-cfd931cbc102"
      },
      "source": [
        "print(\"덧셈 결과:\",input_a + input_b)"
      ],
      "execution_count": null,
      "outputs": [
        {
          "output_type": "stream",
          "text": [
            "덧셈 결과: 223.0\n"
          ],
          "name": "stdout"
        }
      ]
    },
    {
      "cell_type": "code",
      "metadata": {
        "colab": {
          "base_uri": "https://localhost:8080/"
        },
        "id": "jtMOpsN48T3r",
        "outputId": "8099b97c-453c-4dc5-9fcb-291fa92364fa"
      },
      "source": [
        "a = int(input(\"1번째 숫자:\"))"
      ],
      "execution_count": null,
      "outputs": [
        {
          "output_type": "stream",
          "text": [
            "1번째 숫자:1\n"
          ],
          "name": "stdout"
        }
      ]
    },
    {
      "cell_type": "code",
      "metadata": {
        "colab": {
          "base_uri": "https://localhost:8080/"
        },
        "id": "jtvFgH9_8m2o",
        "outputId": "315f9d55-ad10-4963-cb2f-d256cd028f43"
      },
      "source": [
        "b = int(input(\"2번째 숫자:\"))"
      ],
      "execution_count": null,
      "outputs": [
        {
          "output_type": "stream",
          "text": [
            "2번째 숫자:222\n"
          ],
          "name": "stdout"
        }
      ]
    },
    {
      "cell_type": "code",
      "metadata": {
        "colab": {
          "base_uri": "https://localhost:8080/"
        },
        "id": "Uj2Z8r278rzb",
        "outputId": "c5392860-001f-4142-86c3-f60602422a4a"
      },
      "source": [
        "if a < b:\n",
        "   print(\"처음 입력했던 {}가 {}보다 더 큽니다\".format(b, a))"
      ],
      "execution_count": null,
      "outputs": [
        {
          "output_type": "stream",
          "text": [
            "처음 입력했던 222가 1보다 더 큽니다\n"
          ],
          "name": "stdout"
        }
      ]
    },
    {
      "cell_type": "code",
      "metadata": {
        "colab": {
          "base_uri": "https://localhost:8080/"
        },
        "id": "I61lOH8r89fW",
        "outputId": "b69d37c7-16a3-4d31-c6bb-5348b42046e1"
      },
      "source": [
        "a"
      ],
      "execution_count": null,
      "outputs": [
        {
          "output_type": "execute_result",
          "data": {
            "text/plain": [
              "100"
            ]
          },
          "metadata": {
            "tags": []
          },
          "execution_count": 175
        }
      ]
    },
    {
      "cell_type": "code",
      "metadata": {
        "colab": {
          "base_uri": "https://localhost:8080/"
        },
        "id": "Phlltt3y9YKi",
        "outputId": "30a281ee-9030-4264-e787-82ea414512b5"
      },
      "source": [
        "b"
      ],
      "execution_count": null,
      "outputs": [
        {
          "output_type": "execute_result",
          "data": {
            "text/plain": [
              "10"
            ]
          },
          "metadata": {
            "tags": []
          },
          "execution_count": 176
        }
      ]
    },
    {
      "cell_type": "markdown",
      "metadata": {
        "id": "-zWESIu3Yl97"
      },
      "source": [
        "# 강의자료 159페이지"
      ]
    },
    {
      "cell_type": "code",
      "metadata": {
        "id": "JB406PLA9ZNJ"
      },
      "source": [
        "number = 5"
      ],
      "execution_count": null,
      "outputs": []
    },
    {
      "cell_type": "code",
      "metadata": {
        "colab": {
          "base_uri": "https://localhost:8080/"
        },
        "id": "WBkHzfGOY4Nt",
        "outputId": "7ae279f0-758e-43f1-9a3a-633b66cb8836"
      },
      "source": [
        "if number % 2 == 0:\n",
        "    print(\"짝수\")\n",
        "else:\n",
        "    print(\"홀수\")"
      ],
      "execution_count": null,
      "outputs": [
        {
          "output_type": "stream",
          "text": [
            "홀수\n"
          ],
          "name": "stdout"
        }
      ]
    },
    {
      "cell_type": "markdown",
      "metadata": {
        "id": "IK3Tf67Q0Fiv"
      },
      "source": [
        "# 161p \n",
        "elif 구문 : if조건문과 else 구문 사이에 입력하며, 세개 이상의 조건을 연결할때 사용"
      ]
    },
    {
      "cell_type": "code",
      "metadata": {
        "id": "3ZmBKCC1z40I"
      },
      "source": [
        "import datetime"
      ],
      "execution_count": null,
      "outputs": []
    },
    {
      "cell_type": "code",
      "metadata": {
        "id": "Nfm0wxPk0lxt"
      },
      "source": [
        "now = datetime.datetime.now()"
      ],
      "execution_count": null,
      "outputs": []
    },
    {
      "cell_type": "code",
      "metadata": {
        "id": "gVqmsxOJ0zQ_"
      },
      "source": [
        "month = now.month\n"
      ],
      "execution_count": null,
      "outputs": []
    },
    {
      "cell_type": "code",
      "metadata": {
        "colab": {
          "base_uri": "https://localhost:8080/"
        },
        "id": "yBn7LDEm0-T3",
        "outputId": "b4bb68f7-adad-4a89-b146-38a3537b64b0"
      },
      "source": [
        "if 3<= month <=5:\n",
        "  print(\"현재는 봄입니다\")\n",
        "elif 6<= month <=8:\n",
        "  print(\"현재는 여름\")\n",
        "elif 9<= month <=11:\n",
        "  print(\"현재는 가을\")\n",
        "else:\n",
        "  print(\"현재는 겨울\")"
      ],
      "execution_count": null,
      "outputs": [
        {
          "output_type": "stream",
          "text": [
            "현재는 여름\n"
          ],
          "name": "stdout"
        }
      ]
    },
    {
      "cell_type": "markdown",
      "metadata": {
        "id": "nqBS_44h1ryN"
      },
      "source": [
        "if 조건문을 효율적으로 사용하기\n",
        "- 현재 elif 4.2 <= score 4.5:\n",
        "\n",
        ": 이미 4.5 이상은 신으로 처리되었음 굳이 4.5써줄 필요가 없음\n",
        "\n",
        "하위값만 검사하고 상위값은 검사 생략\n",
        "\n",
        "\n",
        "- 4.2 <= score 4.5: -> 4.2 <= score: 변경\n",
        "\n",
        "조건 비교를 반으로 줄이고 코드 가독성 향상"
      ]
    },
    {
      "cell_type": "code",
      "metadata": {
        "colab": {
          "base_uri": "https://localhost:8080/"
        },
        "id": "1hJgb6BP1IzN",
        "outputId": "c206d95e-567d-4e58-8cd1-4bad78bc198b"
      },
      "source": [
        "score = float(input(\"학점입력>\"))"
      ],
      "execution_count": null,
      "outputs": [
        {
          "output_type": "stream",
          "text": [
            "학점입력>2\n"
          ],
          "name": "stdout"
        }
      ]
    },
    {
      "cell_type": "code",
      "metadata": {
        "colab": {
          "base_uri": "https://localhost:8080/"
        },
        "id": "M-b_OxDy11Pn",
        "outputId": "f0de96fc-0a5b-4631-c9c3-3590e5aafd42"
      },
      "source": [
        "\n",
        "if score == 4.5:\n",
        "  print(\"신\")\n",
        "\n",
        "elif 4.2 <= score <= 4.5:\n",
        "      print(\"교수님의 사랑\")\n",
        "elif 3.5 <= score <= 4.2:\n",
        "  print(\"현 체계의 수호자\")\n",
        "else:\n",
        "  print(\"gg\")"
      ],
      "execution_count": null,
      "outputs": [
        {
          "output_type": "stream",
          "text": [
            "gg\n"
          ],
          "name": "stdout"
        }
      ]
    },
    {
      "cell_type": "code",
      "metadata": {
        "colab": {
          "base_uri": "https://localhost:8080/"
        },
        "id": "l0uF-zKO2gLE",
        "outputId": "e935bb54-1406-4ec2-f816-558b59c8cb41"
      },
      "source": [
        "# 보기 좋게 조건 비교를 바꿈\n",
        "if score == 4.5:\n",
        "  print(\"신\")\n",
        "elif 4.2 <= score:\n",
        "  print(\"교수님의 사랑\")\n",
        "elif 3.5 <= score:\n",
        "  print(\"현 체계의 수호자\")\n",
        "else:\n",
        "  print(\"gg\")"
      ],
      "execution_count": null,
      "outputs": [
        {
          "output_type": "stream",
          "text": [
            "gg\n"
          ],
          "name": "stdout"
        }
      ]
    },
    {
      "cell_type": "markdown",
      "metadata": {
        "id": "PMqdYT0R6IjW"
      },
      "source": [
        "# 165p"
      ]
    },
    {
      "cell_type": "code",
      "metadata": {
        "id": "6CISWjaa386y"
      },
      "source": [
        "lst1 = [1, \"안녕\"]\n",
        "lst2 = []"
      ],
      "execution_count": null,
      "outputs": []
    },
    {
      "cell_type": "code",
      "metadata": {
        "id": "cyl4oc1c6MuU"
      },
      "source": [
        "str1 = \"good\"\n",
        "str2 = \"\""
      ],
      "execution_count": null,
      "outputs": []
    },
    {
      "cell_type": "markdown",
      "metadata": {
        "id": "7Ug7-fPt6RQ1"
      },
      "source": [
        "if 조건문의 매개변수에 불이 아닌 다른 값이 올 때 자동으로 불로 변환\n",
        "- False 변환되는 값 : None,0.0, 빈 문자열, 빈 리스트, 빈 튜플, 빈 딕셔너리 등"
      ]
    },
    {
      "cell_type": "code",
      "metadata": {
        "colab": {
          "base_uri": "https://localhost:8080/"
        },
        "id": "2sDriuHc6Oqg",
        "outputId": "d5399240-419e-430e-ae45-818df6910939"
      },
      "source": [
        "if lst1 :\n",
        "  print(\"True\")\n",
        "else:\n",
        "  print(\"False\")"
      ],
      "execution_count": null,
      "outputs": [
        {
          "output_type": "stream",
          "text": [
            "True\n"
          ],
          "name": "stdout"
        }
      ]
    },
    {
      "cell_type": "code",
      "metadata": {
        "colab": {
          "base_uri": "https://localhost:8080/"
        },
        "id": "sSlAixAV6ZfT",
        "outputId": "dea92859-fd47-4f0d-9ba2-f8db3ae2d2e3"
      },
      "source": [
        "if str2 :\n",
        "  print(\"True\")\n",
        "else:\n",
        "  print(\"False\")"
      ],
      "execution_count": null,
      "outputs": [
        {
          "output_type": "stream",
          "text": [
            "False\n"
          ],
          "name": "stdout"
        }
      ]
    },
    {
      "cell_type": "markdown",
      "metadata": {
        "id": "YVdz48tF6fnV"
      },
      "source": [
        "pass : 아무것도 작성하지 않고 임시적으로 비워둠"
      ]
    },
    {
      "cell_type": "code",
      "metadata": {
        "id": "qqBSX7K26Z4i"
      },
      "source": [
        "number = 10"
      ],
      "execution_count": null,
      "outputs": []
    },
    {
      "cell_type": "code",
      "metadata": {
        "colab": {
          "base_uri": "https://localhost:8080/",
          "height": 134
        },
        "id": "zgiWmO226kbf",
        "outputId": "a424341c-9ca2-48f4-9d6d-a310c03d26d8"
      },
      "source": [
        "# 비워두면 에러\n",
        "# 4칸을 들여 쓰고 뭔가를 구현해야함 pass\n",
        "if number > 0:\n",
        "\n",
        "else :"
      ],
      "execution_count": null,
      "outputs": [
        {
          "output_type": "error",
          "ename": "IndentationError",
          "evalue": "ignored",
          "traceback": [
            "\u001b[0;36m  File \u001b[0;32m\"<ipython-input-28-ac60db573ef9>\"\u001b[0;36m, line \u001b[0;32m5\u001b[0m\n\u001b[0;31m    else :\u001b[0m\n\u001b[0m       ^\u001b[0m\n\u001b[0;31mIndentationError\u001b[0m\u001b[0;31m:\u001b[0m expected an indented block\n"
          ]
        }
      ]
    },
    {
      "cell_type": "code",
      "metadata": {
        "id": "oDU7TGWl6k4V"
      },
      "source": [
        "if number > 0:\n",
        "    pass\n",
        "else:\n",
        "    pass"
      ],
      "execution_count": null,
      "outputs": []
    },
    {
      "cell_type": "markdown",
      "metadata": {
        "id": "LHyqii5K619t"
      },
      "source": [
        "확인 문제"
      ]
    },
    {
      "cell_type": "code",
      "metadata": {
        "id": "6-kA7fv89MOv"
      },
      "source": [
        "x = 15"
      ],
      "execution_count": null,
      "outputs": []
    },
    {
      "cell_type": "code",
      "metadata": {
        "colab": {
          "base_uri": "https://localhost:8080/"
        },
        "id": "caa247j86m7I",
        "outputId": "d25b1040-8d58-4eab-8622-7050c46e3d15"
      },
      "source": [
        "if x > 10 and x < 20:\n",
        "    print(\"조건에 맞습니다\")"
      ],
      "execution_count": null,
      "outputs": [
        {
          "output_type": "stream",
          "text": [
            "조건에 맞습니다\n"
          ],
          "name": "stdout"
        }
      ]
    },
    {
      "cell_type": "markdown",
      "metadata": {
        "id": "-8bdeBaf9jB1"
      },
      "source": [
        "# 175p\n",
        "리스트 : 여러가지 자료를 저장할 수 있는 객체\n",
        "\n",
        "여러가지 자료 처리\n",
        "- 리스트\n",
        "- Numpy 의 NDArray\n",
        "- pandas의 daraFrame"
      ]
    },
    {
      "cell_type": "code",
      "metadata": {
        "id": "7ld3_jt97Chw"
      },
      "source": [
        "list_a = [273, 32, 103, \"문자열\", True, False]"
      ],
      "execution_count": null,
      "outputs": []
    },
    {
      "cell_type": "code",
      "metadata": {
        "colab": {
          "base_uri": "https://localhost:8080/"
        },
        "id": "K47T9i81-fi_",
        "outputId": "c446ab45-454a-4c20-ca8a-fd4f17c70fd1"
      },
      "source": [
        "list_a"
      ],
      "execution_count": null,
      "outputs": [
        {
          "output_type": "execute_result",
          "data": {
            "text/plain": [
              "[273, 32, 103, '문자열', True, False]"
            ]
          },
          "metadata": {
            "tags": []
          },
          "execution_count": 43
        }
      ]
    },
    {
      "cell_type": "code",
      "metadata": {
        "colab": {
          "base_uri": "https://localhost:8080/"
        },
        "id": "OlrSAv8A-mQo",
        "outputId": "8bc0cc25-fca3-480a-c5ba-fddd707c74cf"
      },
      "source": [
        "list_a[1]"
      ],
      "execution_count": null,
      "outputs": [
        {
          "output_type": "execute_result",
          "data": {
            "text/plain": [
              "32"
            ]
          },
          "metadata": {
            "tags": []
          },
          "execution_count": 44
        }
      ]
    },
    {
      "cell_type": "code",
      "metadata": {
        "id": "eNKIZXai-pUu",
        "colab": {
          "base_uri": "https://localhost:8080/"
        },
        "outputId": "8ac24ba6-dd6c-4699-9e95-2e9b9bc1a302"
      },
      "source": [
        "list_a[2]"
      ],
      "execution_count": null,
      "outputs": [
        {
          "output_type": "execute_result",
          "data": {
            "text/plain": [
              "103"
            ]
          },
          "metadata": {
            "tags": []
          },
          "execution_count": 46
        }
      ]
    },
    {
      "cell_type": "code",
      "metadata": {
        "id": "2jnYR3G2-rn7",
        "colab": {
          "base_uri": "https://localhost:8080/"
        },
        "outputId": "621251cb-61e4-42cd-a7f6-89d24f31cbe0"
      },
      "source": [
        "# 파이썬은 인덱스 1이상 3미만으로 해석함\n",
        "list_a[1:3]"
      ],
      "execution_count": null,
      "outputs": [
        {
          "output_type": "execute_result",
          "data": {
            "text/plain": [
              "[32, 103]"
            ]
          },
          "metadata": {
            "tags": []
          },
          "execution_count": 47
        }
      ]
    },
    {
      "cell_type": "code",
      "metadata": {
        "colab": {
          "base_uri": "https://localhost:8080/"
        },
        "id": "VpWLbf-n_AoC",
        "outputId": "4aaacc5f-e51c-4ffa-85d7-c0092664d5fc"
      },
      "source": [
        "list_a[1:4]"
      ],
      "execution_count": null,
      "outputs": [
        {
          "output_type": "execute_result",
          "data": {
            "text/plain": [
              "[32, 103, '문자열']"
            ]
          },
          "metadata": {
            "tags": []
          },
          "execution_count": 48
        }
      ]
    },
    {
      "cell_type": "code",
      "metadata": {
        "colab": {
          "base_uri": "https://localhost:8080/"
        },
        "id": "d6BPNBdy_Ezf",
        "outputId": "d21f548f-2273-4836-d6ef-7b50a77cf077"
      },
      "source": [
        "list_a[-1]"
      ],
      "execution_count": null,
      "outputs": [
        {
          "output_type": "execute_result",
          "data": {
            "text/plain": [
              "False"
            ]
          },
          "metadata": {
            "tags": []
          },
          "execution_count": 49
        }
      ]
    },
    {
      "cell_type": "code",
      "metadata": {
        "colab": {
          "base_uri": "https://localhost:8080/",
          "height": 35
        },
        "id": "lifLWNmE_K9p",
        "outputId": "5b47389d-1fd7-4a29-cd0b-ff1ce4bf2253"
      },
      "source": [
        "list_a[-3]"
      ],
      "execution_count": null,
      "outputs": [
        {
          "output_type": "execute_result",
          "data": {
            "application/vnd.google.colaboratory.intrinsic+json": {
              "type": "string"
            },
            "text/plain": [
              "'문자열'"
            ]
          },
          "metadata": {
            "tags": []
          },
          "execution_count": 50
        }
      ]
    },
    {
      "cell_type": "code",
      "metadata": {
        "colab": {
          "base_uri": "https://localhost:8080/"
        },
        "id": "HBvXDuGe_N2P",
        "outputId": "a230b7f4-2960-4d0f-d431-78fe6b545580"
      },
      "source": [
        "# -5가 음수로 더작으니까 앞에 있어야 함\n",
        "list_a[-1:-5]"
      ],
      "execution_count": null,
      "outputs": [
        {
          "output_type": "execute_result",
          "data": {
            "text/plain": [
              "[]"
            ]
          },
          "metadata": {
            "tags": []
          },
          "execution_count": 51
        }
      ]
    },
    {
      "cell_type": "code",
      "metadata": {
        "colab": {
          "base_uri": "https://localhost:8080/"
        },
        "id": "16QRZhvB_Rnz",
        "outputId": "4b0ae4ed-4be5-4ce1-b3ca-df2792b41604"
      },
      "source": [
        "list_a[-5:-1]"
      ],
      "execution_count": null,
      "outputs": [
        {
          "output_type": "execute_result",
          "data": {
            "text/plain": [
              "[32, 103, '문자열', True]"
            ]
          },
          "metadata": {
            "tags": []
          },
          "execution_count": 52
        }
      ]
    },
    {
      "cell_type": "code",
      "metadata": {
        "id": "aqAFkaEG_VId"
      },
      "source": [
        "list_a=[[1, 2, 3], [4, 5, 6], [7, 8, 9]]"
      ],
      "execution_count": null,
      "outputs": []
    },
    {
      "cell_type": "code",
      "metadata": {
        "colab": {
          "base_uri": "https://localhost:8080/"
        },
        "id": "DFiDTn3e_XD0",
        "outputId": "60d3b879-dcbc-450b-8dc3-6e22de552ad2"
      },
      "source": [
        "list_a[1]"
      ],
      "execution_count": null,
      "outputs": [
        {
          "output_type": "execute_result",
          "data": {
            "text/plain": [
              "[4, 5, 6]"
            ]
          },
          "metadata": {
            "tags": []
          },
          "execution_count": 54
        }
      ]
    },
    {
      "cell_type": "code",
      "metadata": {
        "colab": {
          "base_uri": "https://localhost:8080/"
        },
        "id": "Y-cMLgZb_Zyq",
        "outputId": "0ea6d7ae-79b1-41d5-e027-17bbd4b06027"
      },
      "source": [
        "list_a[1][2]"
      ],
      "execution_count": null,
      "outputs": [
        {
          "output_type": "execute_result",
          "data": {
            "text/plain": [
              "6"
            ]
          },
          "metadata": {
            "tags": []
          },
          "execution_count": 55
        }
      ]
    },
    {
      "cell_type": "code",
      "metadata": {
        "id": "al5D4iMJ_bwj"
      },
      "source": [
        "list_a = [ [1, 2, 3], [4, 5, 6], [\"안\", \"녕\", \"하\", \"세\", \"요\"]]"
      ],
      "execution_count": null,
      "outputs": []
    },
    {
      "cell_type": "code",
      "metadata": {
        "colab": {
          "base_uri": "https://localhost:8080/"
        },
        "id": "CRjnTvwx_dxp",
        "outputId": "81cca914-822e-43f1-cff8-51d30616f087"
      },
      "source": [
        "list_a[1][2]"
      ],
      "execution_count": null,
      "outputs": [
        {
          "output_type": "execute_result",
          "data": {
            "text/plain": [
              "6"
            ]
          },
          "metadata": {
            "tags": []
          },
          "execution_count": 57
        }
      ]
    },
    {
      "cell_type": "code",
      "metadata": {
        "colab": {
          "base_uri": "https://localhost:8080/",
          "height": 35
        },
        "id": "GrJ4JeHj_flx",
        "outputId": "7f569859-09fc-415f-b9f3-4b13498bdf32"
      },
      "source": [
        "list_a[2][1]"
      ],
      "execution_count": null,
      "outputs": [
        {
          "output_type": "execute_result",
          "data": {
            "application/vnd.google.colaboratory.intrinsic+json": {
              "type": "string"
            },
            "text/plain": [
              "'녕'"
            ]
          },
          "metadata": {
            "tags": []
          },
          "execution_count": 58
        }
      ]
    },
    {
      "cell_type": "code",
      "metadata": {
        "id": "5zAV0dWX_h2j"
      },
      "source": [
        "# 파이썬의 문자열은 글자 하나씩 있는 리스트로 변환되어 저장 된다\n",
        "#[\"안녕하세요\"] -> [\"안\", \"녕\", \"하\", \"세\", \"요\"] 같음\n",
        "# 문자열은 글자 하나씩 있는 리스트랑 똑같이 동작\n",
        "list_a = [ [1, 2, 3], [4, 5, 6], \"안녕하세요\"]"
      ],
      "execution_count": null,
      "outputs": []
    },
    {
      "cell_type": "code",
      "metadata": {
        "colab": {
          "base_uri": "https://localhost:8080/",
          "height": 35
        },
        "id": "R7lN367l_jl2",
        "outputId": "1e4c91a3-6430-4bc3-b856-d64cc60194f7"
      },
      "source": [
        "list_a[2][1]"
      ],
      "execution_count": null,
      "outputs": [
        {
          "output_type": "execute_result",
          "data": {
            "application/vnd.google.colaboratory.intrinsic+json": {
              "type": "string"
            },
            "text/plain": [
              "'녕'"
            ]
          },
          "metadata": {
            "tags": []
          },
          "execution_count": 60
        }
      ]
    },
    {
      "cell_type": "code",
      "metadata": {
        "id": "8txytS5i_lmI"
      },
      "source": [
        "# 문자열은 실제로 이렇게 저장이 되어있음 [\"문\", \"자\", \"열\"]\n",
        "list_a = [ 273, 32, 103, \"문자열\", True, False]"
      ],
      "execution_count": null,
      "outputs": []
    },
    {
      "cell_type": "code",
      "metadata": {
        "id": "mEx2s4X4_n9v",
        "colab": {
          "base_uri": "https://localhost:8080/",
          "height": 35
        },
        "outputId": "150a7288-3f95-4488-bb8d-e33ad7124e75"
      },
      "source": [
        "list_a[3]"
      ],
      "execution_count": null,
      "outputs": [
        {
          "output_type": "execute_result",
          "data": {
            "application/vnd.google.colaboratory.intrinsic+json": {
              "type": "string"
            },
            "text/plain": [
              "'문자열'"
            ]
          },
          "metadata": {
            "tags": []
          },
          "execution_count": 3
        }
      ]
    },
    {
      "cell_type": "code",
      "metadata": {
        "id": "iAxb5Lkn_rW3",
        "colab": {
          "base_uri": "https://localhost:8080/",
          "height": 35
        },
        "outputId": "698feca1-cd51-4744-d87c-48846901d27a"
      },
      "source": [
        "list_a[3][1]"
      ],
      "execution_count": null,
      "outputs": [
        {
          "output_type": "execute_result",
          "data": {
            "application/vnd.google.colaboratory.intrinsic+json": {
              "type": "string"
            },
            "text/plain": [
              "'자'"
            ]
          },
          "metadata": {
            "tags": []
          },
          "execution_count": 4
        }
      ]
    },
    {
      "cell_type": "code",
      "metadata": {
        "colab": {
          "base_uri": "https://localhost:8080/",
          "height": 186
        },
        "id": "k-SekETSccLK",
        "outputId": "91b285e2-b3f7-4e3c-df1f-cb667035298c"
      },
      "source": [
        "# 273에서 3을 뽑아 내는건 안됨 문자열은 리스트안에 리스트여서 가능함\n",
        "list_a[0][1]"
      ],
      "execution_count": null,
      "outputs": [
        {
          "output_type": "error",
          "ename": "TypeError",
          "evalue": "ignored",
          "traceback": [
            "\u001b[0;31m---------------------------------------------------------------------------\u001b[0m",
            "\u001b[0;31mTypeError\u001b[0m                                 Traceback (most recent call last)",
            "\u001b[0;32m<ipython-input-5-7bcb47095633>\u001b[0m in \u001b[0;36m<module>\u001b[0;34m()\u001b[0m\n\u001b[1;32m      1\u001b[0m \u001b[0;31m# 273에서 3을 뽑아 내는건 안됨 문자열은 리스트안에 리스트여서 가능함\u001b[0m\u001b[0;34m\u001b[0m\u001b[0;34m\u001b[0m\u001b[0;34m\u001b[0m\u001b[0m\n\u001b[0;32m----> 2\u001b[0;31m \u001b[0mlist_a\u001b[0m\u001b[0;34m[\u001b[0m\u001b[0;36m0\u001b[0m\u001b[0;34m]\u001b[0m\u001b[0;34m[\u001b[0m\u001b[0;36m1\u001b[0m\u001b[0;34m]\u001b[0m\u001b[0;34m\u001b[0m\u001b[0;34m\u001b[0m\u001b[0m\n\u001b[0m",
            "\u001b[0;31mTypeError\u001b[0m: 'int' object is not subscriptable"
          ]
        }
      ]
    },
    {
      "cell_type": "code",
      "metadata": {
        "id": "SyLDrrLEcjeP"
      },
      "source": [
        "list_a = [1, 2, 3]"
      ],
      "execution_count": null,
      "outputs": []
    },
    {
      "cell_type": "code",
      "metadata": {
        "id": "PLyJv09gcl1C"
      },
      "source": [
        "list_b = [4, 5, 6]"
      ],
      "execution_count": null,
      "outputs": []
    },
    {
      "cell_type": "code",
      "metadata": {
        "colab": {
          "base_uri": "https://localhost:8080/"
        },
        "id": "G-nykgbScoTX",
        "outputId": "78aa0057-7a8d-4632-d614-a91001ab8e43"
      },
      "source": [
        "list_a[2]"
      ],
      "execution_count": null,
      "outputs": [
        {
          "output_type": "execute_result",
          "data": {
            "text/plain": [
              "3"
            ]
          },
          "metadata": {
            "tags": []
          },
          "execution_count": 8
        }
      ]
    },
    {
      "cell_type": "code",
      "metadata": {
        "id": "467626WOcp6F"
      },
      "source": [
        ""
      ],
      "execution_count": null,
      "outputs": []
    },
    {
      "cell_type": "code",
      "metadata": {
        "id": "_k-KxwG0NVPj"
      },
      "source": [
        "list_a = [100, 200, 300, 400,500, 600]"
      ],
      "execution_count": null,
      "outputs": []
    },
    {
      "cell_type": "code",
      "metadata": {
        "id": "u58SI6q0Nb98"
      },
      "source": [
        "del list_a[1]"
      ],
      "execution_count": null,
      "outputs": []
    },
    {
      "cell_type": "code",
      "metadata": {
        "colab": {
          "base_uri": "https://localhost:8080/"
        },
        "id": "f7LMV8ymNk_m",
        "outputId": "0c976338-5029-47be-9a7b-c27d10aac267"
      },
      "source": [
        "list_a"
      ],
      "execution_count": null,
      "outputs": [
        {
          "output_type": "execute_result",
          "data": {
            "text/plain": [
              "[100, 300, 400, 500, 600]"
            ]
          },
          "metadata": {
            "tags": []
          },
          "execution_count": 185
        }
      ]
    },
    {
      "cell_type": "code",
      "metadata": {
        "id": "jkAE_tW3NmwI"
      },
      "source": [
        "# 300,400,500,600 4개를 지우려면 1이상 5미만 \n",
        "del list_a[1:5]"
      ],
      "execution_count": null,
      "outputs": []
    },
    {
      "cell_type": "code",
      "metadata": {
        "colab": {
          "base_uri": "https://localhost:8080/"
        },
        "id": "l6e-MeTeON_r",
        "outputId": "0c11739f-5cda-4189-9de1-8b34a38a0f1d"
      },
      "source": [
        "list_a"
      ],
      "execution_count": null,
      "outputs": [
        {
          "output_type": "execute_result",
          "data": {
            "text/plain": [
              "[100]"
            ]
          },
          "metadata": {
            "tags": []
          },
          "execution_count": 68
        }
      ]
    },
    {
      "cell_type": "code",
      "metadata": {
        "id": "c_Y5f4JrOSPH"
      },
      "source": [
        "list_a = [100, 200, 300, 400,500, 600]"
      ],
      "execution_count": null,
      "outputs": []
    },
    {
      "cell_type": "code",
      "metadata": {
        "id": "qs5EFxwaObcn"
      },
      "source": [
        "# 공백은 0으로 -> 0이상 3 미만 삭제\n",
        "del list_a[ :3]"
      ],
      "execution_count": null,
      "outputs": []
    },
    {
      "cell_type": "code",
      "metadata": {
        "colab": {
          "base_uri": "https://localhost:8080/"
        },
        "id": "3oJLveSzOlNZ",
        "outputId": "affc7da5-b6f1-493c-ba8b-324edaad746b"
      },
      "source": [
        "list_a"
      ],
      "execution_count": null,
      "outputs": [
        {
          "output_type": "execute_result",
          "data": {
            "text/plain": [
              "[400, 500, 600]"
            ]
          },
          "metadata": {
            "tags": []
          },
          "execution_count": 74
        }
      ]
    },
    {
      "cell_type": "code",
      "metadata": {
        "id": "Jm1ayO0ROm-z"
      },
      "source": [
        "list_a = [100, 200, 300, 400,500, 600]"
      ],
      "execution_count": null,
      "outputs": []
    },
    {
      "cell_type": "code",
      "metadata": {
        "id": "gDP3sPW9O-rR"
      },
      "source": [
        "# 2이상 삭제\n",
        "# 2 이상 6미만 삭제\n",
        "del list_a[2: ]"
      ],
      "execution_count": null,
      "outputs": []
    },
    {
      "cell_type": "code",
      "metadata": {
        "colab": {
          "base_uri": "https://localhost:8080/"
        },
        "id": "YrS3nWNsPDQj",
        "outputId": "e58daeb5-0a78-405b-ec2f-6d7be2365208"
      },
      "source": [
        "list_a"
      ],
      "execution_count": null,
      "outputs": [
        {
          "output_type": "execute_result",
          "data": {
            "text/plain": [
              "[100, 200]"
            ]
          },
          "metadata": {
            "tags": []
          },
          "execution_count": 81
        }
      ]
    },
    {
      "cell_type": "code",
      "metadata": {
        "id": "EDVyRmhxPEoG"
      },
      "source": [
        "list_a = [100, 200, 300, 400,500, 600]"
      ],
      "execution_count": null,
      "outputs": []
    },
    {
      "cell_type": "code",
      "metadata": {
        "colab": {
          "base_uri": "https://localhost:8080/"
        },
        "id": "gl05r9HHPz3T",
        "outputId": "3c7b96ca-8813-44f0-d869-be0cb98766d5"
      },
      "source": [
        "list_a.pop(2)"
      ],
      "execution_count": null,
      "outputs": [
        {
          "output_type": "execute_result",
          "data": {
            "text/plain": [
              "300"
            ]
          },
          "metadata": {
            "tags": []
          },
          "execution_count": 83
        }
      ]
    },
    {
      "cell_type": "code",
      "metadata": {
        "colab": {
          "base_uri": "https://localhost:8080/"
        },
        "id": "62yN_myGP7HG",
        "outputId": "a862d070-5c4f-4595-9b3c-f81bc2656c02"
      },
      "source": [
        "list_a"
      ],
      "execution_count": null,
      "outputs": [
        {
          "output_type": "execute_result",
          "data": {
            "text/plain": [
              "[100, 200, 400, 500, 600]"
            ]
          },
          "metadata": {
            "tags": []
          },
          "execution_count": 84
        }
      ]
    },
    {
      "cell_type": "code",
      "metadata": {
        "id": "LGmAIsdkQRJt"
      },
      "source": [
        "list_c = [300, 400, 100, 200, 100, 100, 500, 900]"
      ],
      "execution_count": null,
      "outputs": []
    },
    {
      "cell_type": "code",
      "metadata": {
        "id": "2PMP9ijyQXMH"
      },
      "source": [
        "# 맨 앞에 있는 100 하나만 찾아서 삭제함\n",
        "list_c.remove(100)"
      ],
      "execution_count": null,
      "outputs": []
    },
    {
      "cell_type": "code",
      "metadata": {
        "colab": {
          "base_uri": "https://localhost:8080/"
        },
        "id": "4GYuFCGzQrQ5",
        "outputId": "92231a49-33f1-4f36-8dbc-f34d58b8df67"
      },
      "source": [
        "list_c"
      ],
      "execution_count": null,
      "outputs": [
        {
          "output_type": "execute_result",
          "data": {
            "text/plain": [
              "[300, 400, 200, 100, 100, 500, 900]"
            ]
          },
          "metadata": {
            "tags": []
          },
          "execution_count": 88
        }
      ]
    },
    {
      "cell_type": "code",
      "metadata": {
        "colab": {
          "base_uri": "https://localhost:8080/"
        },
        "id": "lvcuKLPeQsjK",
        "outputId": "25ab09c9-843c-4704-c0d1-bf3dbf1addcc"
      },
      "source": [
        "# 900 이 포함되있으면 True\n",
        "900 in list_c"
      ],
      "execution_count": null,
      "outputs": [
        {
          "output_type": "execute_result",
          "data": {
            "text/plain": [
              "True"
            ]
          },
          "metadata": {
            "tags": []
          },
          "execution_count": 89
        }
      ]
    },
    {
      "cell_type": "code",
      "metadata": {
        "colab": {
          "base_uri": "https://localhost:8080/"
        },
        "id": "m5qzkmVDRYyN",
        "outputId": "3a598921-9eaf-4981-ccff-a09cd6b58574"
      },
      "source": [
        "# 800 이 포함이 되어있지 않으면 False\n",
        "800 in list_c"
      ],
      "execution_count": null,
      "outputs": [
        {
          "output_type": "execute_result",
          "data": {
            "text/plain": [
              "False"
            ]
          },
          "metadata": {
            "tags": []
          },
          "execution_count": 90
        }
      ]
    },
    {
      "cell_type": "code",
      "metadata": {
        "colab": {
          "base_uri": "https://localhost:8080/"
        },
        "id": "qZ0aFVgPRb5N",
        "outputId": "05a6802c-3c8b-4a8b-d026-03641a5b517b"
      },
      "source": [
        "# 900이 포함이 되어있으면 False\n",
        "900 not in list_c"
      ],
      "execution_count": null,
      "outputs": [
        {
          "output_type": "execute_result",
          "data": {
            "text/plain": [
              "False"
            ]
          },
          "metadata": {
            "tags": []
          },
          "execution_count": 91
        }
      ]
    },
    {
      "cell_type": "code",
      "metadata": {
        "colab": {
          "base_uri": "https://localhost:8080/"
        },
        "id": "2pQP63nhR1MG",
        "outputId": "71401f78-30e0-476f-d4d9-980695051456"
      },
      "source": [
        "# 00이 포함이 안되어있으면 True\n",
        "800 not in list_c"
      ],
      "execution_count": null,
      "outputs": [
        {
          "output_type": "execute_result",
          "data": {
            "text/plain": [
              "True"
            ]
          },
          "metadata": {
            "tags": []
          },
          "execution_count": 93
        }
      ]
    },
    {
      "cell_type": "code",
      "metadata": {
        "colab": {
          "base_uri": "https://localhost:8080/"
        },
        "id": "XE5iqXkoR9zg",
        "outputId": "b1f7598f-9319-4e06-a306-ab1924f38c4a"
      },
      "source": [
        "number = 0\n",
        "\n",
        "# 조건이 참인 동안 반복할 일 반복\n",
        "while(number < 5):  # 조건\n",
        "  print(\"number={}\".format(number))  # 반복할 일 씀\n",
        "  number = number+1"
      ],
      "execution_count": null,
      "outputs": [
        {
          "output_type": "stream",
          "text": [
            "number=0\n",
            "number=1\n",
            "number=2\n",
            "number=3\n",
            "number=4\n"
          ],
          "name": "stdout"
        }
      ]
    },
    {
      "cell_type": "code",
      "metadata": {
        "colab": {
          "base_uri": "https://localhost:8080/"
        },
        "id": "vJawwX3PSSmh",
        "outputId": "8874eb07-222e-441f-c2e7-754606c9d56f"
      },
      "source": [
        "while(100 in list_c ): # 조건. 조건이 참인 동안 아래 반복 실행\n",
        "  print(\"lsit_c에 100이 포함되어 있다\")\n",
        "  list_c.remove(100)\n",
        "  print(\"100 1개 지움\")\n",
        "  print(\"list_c={}\". format(list_c))\n",
        "  print(\"=\"*100)"
      ],
      "execution_count": null,
      "outputs": [
        {
          "output_type": "stream",
          "text": [
            "lsit_c에 100이 포함되어 있다\n",
            "100 1개 지움\n",
            "list_c=[300, 400, 200, 100, 500, 900]\n",
            "====================================================================================================\n",
            "lsit_c에 100이 포함되어 있다\n",
            "100 1개 지움\n",
            "list_c=[300, 400, 200, 500, 900]\n",
            "====================================================================================================\n"
          ],
          "name": "stdout"
        }
      ]
    },
    {
      "cell_type": "code",
      "metadata": {
        "colab": {
          "base_uri": "https://localhost:8080/"
        },
        "id": "5Nk0ZfSATnqA",
        "outputId": "d9946b16-6ced-4e91-a52a-72bbade93ecb"
      },
      "source": [
        "list_c"
      ],
      "execution_count": null,
      "outputs": [
        {
          "output_type": "execute_result",
          "data": {
            "text/plain": [
              "[300, 400, 200, 500, 900]"
            ]
          },
          "metadata": {
            "tags": []
          },
          "execution_count": 106
        }
      ]
    },
    {
      "cell_type": "code",
      "metadata": {
        "id": "zkdA4Pa2U28J"
      },
      "source": [
        "array = [273, 32, 103, 57, 52]"
      ],
      "execution_count": null,
      "outputs": []
    },
    {
      "cell_type": "code",
      "metadata": {
        "colab": {
          "base_uri": "https://localhost:8080/"
        },
        "id": "SVgCiKSpVHq4",
        "outputId": "ffe730e7-d623-42da-92bb-719785296c0a"
      },
      "source": [
        "for element in array: # 리스트 값이 순서대로 1개씩 변수 element 대입\n",
        "  print(\"element = \", element) # 리스트에 저장된 데이터 수 만큼 반복or element in array: # 리스트 값이 순서대로 1개씩 변수 element 대입\n",
        "    print(\"element = \", element) # 리스트에 저장된 데이터 수 만큼 반복\n",
        "    \n"
      ],
      "execution_count": null,
      "outputs": [
        {
          "output_type": "stream",
          "text": [
            "element =  273\n",
            "element =  32\n",
            "element =  103\n",
            "element =  57\n",
            "element =  52\n"
          ],
          "name": "stdout"
        }
      ]
    },
    {
      "cell_type": "markdown",
      "metadata": {
        "id": "rTPXLlrDWWpb"
      },
      "source": [
        "199 페이지 \n",
        "range 함수 \n",
        ":정수가 순서대로 저장된 리스트 만들어 줌\n",
        "\n",
        "range(시작값, 끝값)\n",
        "=> 시작 값 이상 끝값 미만 정수가 순차적으로\n",
        "저장된 리스트 만들어서 리턴\n",
        "\n",
        "=> range(1,5) \n",
        ": 1 이상 5미만의 정수가 순서대로 저장된 리스트를 만들어서 리턴\n",
        "=> 실행을 시켜도 보여지지는 않음\n",
        ": list 함수 안에 적용하면 보임\n",
        "list(range(1,5))"
      ]
    },
    {
      "cell_type": "code",
      "metadata": {
        "colab": {
          "base_uri": "https://localhost:8080/"
        },
        "id": "xQYknRczVW-1",
        "outputId": "b2b44839-c6f5-4a3c-fd6c-2de9c46ed14f"
      },
      "source": [
        "range(1, 5)"
      ],
      "execution_count": null,
      "outputs": [
        {
          "output_type": "execute_result",
          "data": {
            "text/plain": [
              "range(1, 5)"
            ]
          },
          "metadata": {
            "tags": []
          },
          "execution_count": 109
        }
      ]
    },
    {
      "cell_type": "code",
      "metadata": {
        "colab": {
          "base_uri": "https://localhost:8080/"
        },
        "id": "BLF833HPWabr",
        "outputId": "00378c2b-9975-45e7-f953-76ada95ca3b0"
      },
      "source": [
        "for element in range(1,5): #[1, 2, 3, 4] 1이상 5미만 정수 순차 저장 리스트\n",
        "  print(\"element = \", element)"
      ],
      "execution_count": null,
      "outputs": [
        {
          "output_type": "stream",
          "text": [
            "element =  1\n",
            "element =  2\n",
            "element =  3\n",
            "element =  4\n"
          ],
          "name": "stdout"
        }
      ]
    },
    {
      "cell_type": "code",
      "metadata": {
        "id": "lD9-9DdYX2xO"
      },
      "source": [
        "dict_a = {\n",
        "    \"name\":\"어벤져스\",\n",
        "    \"type\":\"히어로\",\n",
        "    \"감독\":\"몰라\"\n",
        "}"
      ],
      "execution_count": null,
      "outputs": []
    },
    {
      "cell_type": "code",
      "metadata": {
        "colab": {
          "base_uri": "https://localhost:8080/"
        },
        "id": "-T9Zte9OcVjt",
        "outputId": "46c5cf39-7cd9-4cc7-cd23-3bb2c7aabdef"
      },
      "source": [
        "dict_a"
      ],
      "execution_count": null,
      "outputs": [
        {
          "output_type": "execute_result",
          "data": {
            "text/plain": [
              "{'name': '어벤져스', 'type': '히어로', '감독': '몰라'}"
            ]
          },
          "metadata": {
            "tags": []
          },
          "execution_count": 115
        }
      ]
    },
    {
      "cell_type": "code",
      "metadata": {
        "colab": {
          "base_uri": "https://localhost:8080/",
          "height": 35
        },
        "id": "IiuWeSytcnuO",
        "outputId": "c6c81aec-6343-450a-931f-720fd18238e2"
      },
      "source": [
        "dict_a[\"type\"]"
      ],
      "execution_count": null,
      "outputs": [
        {
          "output_type": "execute_result",
          "data": {
            "application/vnd.google.colaboratory.intrinsic+json": {
              "type": "string"
            },
            "text/plain": [
              "'히어로'"
            ]
          },
          "metadata": {
            "tags": []
          },
          "execution_count": 117
        }
      ]
    },
    {
      "cell_type": "code",
      "metadata": {
        "id": "r5z034MPc8b9"
      },
      "source": [
        "dict_a[\"감독\"] = [\"안소니 루소\", \"조 루소\"]"
      ],
      "execution_count": null,
      "outputs": []
    },
    {
      "cell_type": "code",
      "metadata": {
        "colab": {
          "base_uri": "https://localhost:8080/"
        },
        "id": "OJNbZfdKd_K_",
        "outputId": "4a0d352f-9b7a-42f5-a351-9abdfc6f360f"
      },
      "source": [
        "dict_a"
      ],
      "execution_count": null,
      "outputs": [
        {
          "output_type": "execute_result",
          "data": {
            "text/plain": [
              "{'name': '어벤져스', 'type': '히어로', '감독': ['안소니 루소', '조 루소']}"
            ]
          },
          "metadata": {
            "tags": []
          },
          "execution_count": 119
        }
      ]
    },
    {
      "cell_type": "code",
      "metadata": {
        "id": "OCV-L2XDeDXl"
      },
      "source": [
        "dict_a[\"type\"] = \"액션\""
      ],
      "execution_count": null,
      "outputs": []
    },
    {
      "cell_type": "code",
      "metadata": {
        "colab": {
          "base_uri": "https://localhost:8080/"
        },
        "id": "LwcD8_v9eLKY",
        "outputId": "7cbed97a-00cd-4c16-cb04-af7e6881e277"
      },
      "source": [
        "dict_a"
      ],
      "execution_count": null,
      "outputs": [
        {
          "output_type": "execute_result",
          "data": {
            "text/plain": [
              "{'name': '어벤져스', 'type': '액션', '감독': ['안소니 루소', '조 루소']}"
            ]
          },
          "metadata": {
            "tags": []
          },
          "execution_count": 121
        }
      ]
    },
    {
      "cell_type": "code",
      "metadata": {
        "id": "Zi-HQgy5eN3m"
      },
      "source": [
        "dict_a[\"배우\"] = [\"로버트 다우니 주니어\", \"스칼렛 요한슨\"]"
      ],
      "execution_count": null,
      "outputs": []
    },
    {
      "cell_type": "code",
      "metadata": {
        "colab": {
          "base_uri": "https://localhost:8080/"
        },
        "id": "6RlQqjyLebUE",
        "outputId": "54a7d3ef-e49a-4cff-dcfa-89644f1618d8"
      },
      "source": [
        "dict_a"
      ],
      "execution_count": null,
      "outputs": [
        {
          "output_type": "execute_result",
          "data": {
            "text/plain": [
              "{'name': '어벤져스',\n",
              " 'type': '액션',\n",
              " '감독': ['안소니 루소', '조 루소'],\n",
              " '배우': ['로버트 다우니 주니어', '스칼렛 요한슨']}"
            ]
          },
          "metadata": {
            "tags": []
          },
          "execution_count": 123
        }
      ]
    },
    {
      "cell_type": "markdown",
      "metadata": {
        "id": "KONOmUSweuUB"
      },
      "source": [
        "222p"
      ]
    },
    {
      "cell_type": "code",
      "metadata": {
        "id": "XxEJLlMQedWr"
      },
      "source": [
        "fruit = {\n",
        "    \"name\" : \"7D 건조 망고\",\n",
        "    \"type\" : \"당절임\",\n",
        "    \"ingredient\" : [\"망고\", \"설탕\", \"메타중아황산나트륨\"],\n",
        "    \"origin\" : \"필리핀\", \n",
        "    7865 : \"코드명\",\n",
        "    True : \"키가 불리안이라서 큰따옴표 없음\"\n",
        "}"
      ],
      "execution_count": null,
      "outputs": []
    },
    {
      "cell_type": "code",
      "metadata": {
        "colab": {
          "base_uri": "https://localhost:8080/"
        },
        "id": "5SRmsuzzg5Z5",
        "outputId": "4d58873a-5783-440a-b861-aa669c6efc09"
      },
      "source": [
        "# key로 정렬 저장이 되기 때문에 숫자,불리언,문자는 사전순서로 정렬\n",
        "# 키로 정렬이 되면 리스트보다 빨리 찾을 수 있음\n",
        "# 뭔가를 빨리 찾으려 할땐 딕션쓰기\n",
        "diction1"
      ],
      "execution_count": null,
      "outputs": [
        {
          "output_type": "execute_result",
          "data": {
            "text/plain": [
              "{7865: '코드명',\n",
              " True: '키가 불리안이라서 큰따옴표 없음',\n",
              " 'ingredient': ['망고', '설탕', '메타중아황산나트륨'],\n",
              " 'name': '7D 건조 망고',\n",
              " 'origin': '필리핀',\n",
              " 'type': '당절임'}"
            ]
          },
          "metadata": {
            "tags": []
          },
          "execution_count": 144
        }
      ]
    },
    {
      "cell_type": "code",
      "metadata": {
        "id": "MajnrfumhrsH"
      },
      "source": [
        "del fruit[\"type\"]"
      ],
      "execution_count": null,
      "outputs": []
    },
    {
      "cell_type": "code",
      "metadata": {
        "colab": {
          "base_uri": "https://localhost:8080/"
        },
        "id": "d-DgwGqEiGKs",
        "outputId": "39066971-43bc-4511-d465-8eb61e9a0f70"
      },
      "source": [
        "fruit"
      ],
      "execution_count": null,
      "outputs": [
        {
          "output_type": "execute_result",
          "data": {
            "text/plain": [
              "{7865: '코드명',\n",
              " True: '키가 불리안이라서 큰따옴표 없음',\n",
              " 'ingredient': ['망고', '설탕', '메타중아황산나트륨'],\n",
              " 'name': '7D 건조 망고',\n",
              " 'origin': '필리핀'}"
            ]
          },
          "metadata": {
            "tags": []
          },
          "execution_count": 193
        }
      ]
    },
    {
      "cell_type": "code",
      "metadata": {
        "colab": {
          "base_uri": "https://localhost:8080/",
          "height": 186
        },
        "id": "_hmtPdI0iI0L",
        "outputId": "9ab0b001-f535-409f-a16b-a7e568d77909"
      },
      "source": [
        "# 없는 키를 지우라고 하면 에러남\n",
        "del fruit[가격]"
      ],
      "execution_count": null,
      "outputs": [
        {
          "output_type": "error",
          "ename": "NameError",
          "evalue": "ignored",
          "traceback": [
            "\u001b[0;31m---------------------------------------------------------------------------\u001b[0m",
            "\u001b[0;31mNameError\u001b[0m                                 Traceback (most recent call last)",
            "\u001b[0;32m<ipython-input-194-0c5ad173a3ba>\u001b[0m in \u001b[0;36m<module>\u001b[0;34m()\u001b[0m\n\u001b[1;32m      1\u001b[0m \u001b[0;31m# 없는 키를 지우라고 하면 에러남\u001b[0m\u001b[0;34m\u001b[0m\u001b[0;34m\u001b[0m\u001b[0;34m\u001b[0m\u001b[0m\n\u001b[0;32m----> 2\u001b[0;31m \u001b[0;32mdel\u001b[0m \u001b[0mfruit\u001b[0m\u001b[0;34m[\u001b[0m\u001b[0m가격\u001b[0m\u001b[0;34m]\u001b[0m\u001b[0;34m\u001b[0m\u001b[0;34m\u001b[0m\u001b[0m\n\u001b[0m",
            "\u001b[0;31mNameError\u001b[0m: name '가격' is not defined"
          ]
        }
      ]
    },
    {
      "cell_type": "markdown",
      "metadata": {
        "id": "kC7FzxqWmS7-"
      },
      "source": [
        "222p"
      ]
    },
    {
      "cell_type": "code",
      "metadata": {
        "colab": {
          "base_uri": "https://localhost:8080/"
        },
        "id": "aH2s7F41iQqr",
        "outputId": "dd0b736f-f6ca-454d-a403-9fad54156213"
      },
      "source": [
        "# 키가 존재하는지 in을 써서 조회해야함 있으면 그때 지움\n",
        "\"가격\" in fruit # fruit에 \"가격\" key없어서 False "
      ],
      "execution_count": null,
      "outputs": [
        {
          "output_type": "execute_result",
          "data": {
            "text/plain": [
              "False"
            ]
          },
          "metadata": {
            "tags": []
          },
          "execution_count": 149
        }
      ]
    },
    {
      "cell_type": "code",
      "metadata": {
        "colab": {
          "base_uri": "https://localhost:8080/"
        },
        "id": "MlNsFZWDia7r",
        "outputId": "53d5f48b-6aae-4494-c180-9e2a4886e052"
      },
      "source": [
        "\"name\" in fruit # fruit에 \"name\" key있어서 True"
      ],
      "execution_count": null,
      "outputs": [
        {
          "output_type": "execute_result",
          "data": {
            "text/plain": [
              "True"
            ]
          },
          "metadata": {
            "tags": []
          },
          "execution_count": 150
        }
      ]
    },
    {
      "cell_type": "code",
      "metadata": {
        "colab": {
          "base_uri": "https://localhost:8080/"
        },
        "id": "ye4eqhRKigo7",
        "outputId": "315a5317-fb10-431b-b071-4a0e066a59e5"
      },
      "source": [
        "if \"name\" in fruit:\n",
        "  print(\"fruit에 name키가 있나?\")\n",
        "  del fruit[\"name\"]\n",
        "  print(\"name 키랑 값 삭제\")"
      ],
      "execution_count": null,
      "outputs": [
        {
          "output_type": "stream",
          "text": [
            "fruit에 name키가 있나?\n",
            "name 키랑 값 삭제\n"
          ],
          "name": "stdout"
        }
      ]
    },
    {
      "cell_type": "code",
      "metadata": {
        "colab": {
          "base_uri": "https://localhost:8080/"
        },
        "id": "1DDenrKWjiWo",
        "outputId": "ed41a074-254b-41dc-9351-0662aba659cb"
      },
      "source": [
        "fruit"
      ],
      "execution_count": null,
      "outputs": [
        {
          "output_type": "execute_result",
          "data": {
            "text/plain": [
              "{7865: '코드명',\n",
              " True: '키가 불리안이라서 큰따옴표 없음',\n",
              " 'ingredient': ['망고', '설탕', '메타중아황산나트륨'],\n",
              " 'origin': '필리핀',\n",
              " 'type': '당절임'}"
            ]
          },
          "metadata": {
            "tags": []
          },
          "execution_count": 152
        }
      ]
    },
    {
      "cell_type": "code",
      "metadata": {
        "id": "obKahyPajkHP"
      },
      "source": [
        "if \"가격\" in fruit:\n",
        "  print(\"fruit에 가격 키가 있나?\")\n",
        "  del fruit[\"가격\"]\n",
        "  print(\"가격 키랑 값 삭제\")"
      ],
      "execution_count": null,
      "outputs": []
    },
    {
      "cell_type": "code",
      "metadata": {
        "colab": {
          "base_uri": "https://localhost:8080/"
        },
        "id": "CWtjLt2LkQcG",
        "outputId": "ba27a02f-5865-4cc4-da65-f67f86b91ec1"
      },
      "source": [
        "fruit\n"
      ],
      "execution_count": null,
      "outputs": [
        {
          "output_type": "execute_result",
          "data": {
            "text/plain": [
              "{7865: '코드명',\n",
              " True: '키가 불리안이라서 큰따옴표 없음',\n",
              " 'ingredient': ['망고', '설탕', '메타중아황산나트륨'],\n",
              " 'origin': '필리핀',\n",
              " 'type': '당절임'}"
            ]
          },
          "metadata": {
            "tags": []
          },
          "execution_count": 154
        }
      ]
    },
    {
      "cell_type": "code",
      "metadata": {
        "colab": {
          "base_uri": "https://localhost:8080/",
          "height": 35
        },
        "id": "rLScMWxQkS9s",
        "outputId": "7e213c0c-8894-4025-aa0f-bdd6241b0c4f"
      },
      "source": [
        "# 필리핀을 출력하려면 두가지 방법이 있음\n",
        "fruit[\"origin\"]\n",
        "fruit.get(\"origin\")"
      ],
      "execution_count": null,
      "outputs": [
        {
          "output_type": "execute_result",
          "data": {
            "application/vnd.google.colaboratory.intrinsic+json": {
              "type": "string"
            },
            "text/plain": [
              "'필리핀'"
            ]
          },
          "metadata": {
            "tags": []
          },
          "execution_count": 155
        }
      ]
    },
    {
      "cell_type": "code",
      "metadata": {
        "colab": {
          "base_uri": "https://localhost:8080/",
          "height": 169
        },
        "id": "PWuiLLGhkizV",
        "outputId": "2fa004cd-b498-4a74-8e65-d002b40017de"
      },
      "source": [
        "fruit[\"가격\"] # 존재하지 않는 키를 쓰면 에러남"
      ],
      "execution_count": null,
      "outputs": [
        {
          "output_type": "error",
          "ename": "KeyError",
          "evalue": "ignored",
          "traceback": [
            "\u001b[0;31m---------------------------------------------------------------------------\u001b[0m",
            "\u001b[0;31mKeyError\u001b[0m                                  Traceback (most recent call last)",
            "\u001b[0;32m<ipython-input-156-6d70266f2d91>\u001b[0m in \u001b[0;36m<module>\u001b[0;34m()\u001b[0m\n\u001b[0;32m----> 1\u001b[0;31m \u001b[0mfruit\u001b[0m\u001b[0;34m[\u001b[0m\u001b[0;34m\"가격\"\u001b[0m\u001b[0;34m]\u001b[0m \u001b[0;31m# 존재하지 않는 키를 쓰면 에러남\u001b[0m\u001b[0;34m\u001b[0m\u001b[0;34m\u001b[0m\u001b[0m\n\u001b[0m",
            "\u001b[0;31mKeyError\u001b[0m: '가격'"
          ]
        }
      ]
    },
    {
      "cell_type": "code",
      "metadata": {
        "colab": {
          "base_uri": "https://localhost:8080/"
        },
        "id": "Hdjz7HLTk9ge",
        "outputId": "eb6ee54f-8329-40f3-c66b-0fb62dc3dbdb"
      },
      "source": [
        "fruit.get(\"가격\", 9) # 존재하지 않는 키 에러 안남 None 리턴, 이 방식을 더 많이 씀"
      ],
      "execution_count": null,
      "outputs": [
        {
          "output_type": "execute_result",
          "data": {
            "text/plain": [
              "9"
            ]
          },
          "metadata": {
            "tags": []
          },
          "execution_count": 196
        }
      ]
    },
    {
      "cell_type": "code",
      "metadata": {
        "id": "DQ9X6Yd6lsdP"
      },
      "source": [
        "fruit = {\n",
        "    \"name\" : \"7D 건조 망고\",\n",
        "    \"type\" : \"당절임\",\n",
        "    \"ingredient\" : [\"망고\", \"설탕\", \"메타중아황산나트륨\"],\n",
        "    \"origin\" : \"필리핀\", \n",
        "    7865 : \"코드명\",\n",
        "    True : \"키가 불리안이라서 큰따옴표 없음\"\n",
        "}"
      ],
      "execution_count": null,
      "outputs": []
    },
    {
      "cell_type": "markdown",
      "metadata": {
        "id": "0VeexFG5mOCm"
      },
      "source": [
        "255"
      ]
    },
    {
      "cell_type": "code",
      "metadata": {
        "colab": {
          "base_uri": "https://localhost:8080/"
        },
        "id": "g4YQCSvGmFJN",
        "outputId": "47952a22-e7f0-4258-fc6a-9859a00fb8f2"
      },
      "source": [
        "for elem in fruit: # elem : 변수 fruit : 딕셔너리\n",
        "  print(\"elem = \", elem) # 딕셔너리의 키가 순서대로 대입\n",
        "  print(\"fruit.get({})={}\".format(elem, fruit.get(elem)))\n",
        "  print(\"=\"*100)"
      ],
      "execution_count": null,
      "outputs": [
        {
          "output_type": "stream",
          "text": [
            "elem =  name\n",
            "fruit.get(name)=7D 건조 망고\n",
            "====================================================================================================\n",
            "elem =  type\n",
            "fruit.get(type)=당절임\n",
            "====================================================================================================\n",
            "elem =  ingredient\n",
            "fruit.get(ingredient)=['망고', '설탕', '메타중아황산나트륨']\n",
            "====================================================================================================\n",
            "elem =  origin\n",
            "fruit.get(origin)=필리핀\n",
            "====================================================================================================\n",
            "elem =  7865\n",
            "fruit.get(7865)=코드명\n",
            "====================================================================================================\n",
            "elem =  True\n",
            "fruit.get(True)=키가 불리안이라서 큰따옴표 없음\n",
            "====================================================================================================\n"
          ],
          "name": "stdout"
        }
      ]
    },
    {
      "cell_type": "code",
      "metadata": {
        "colab": {
          "base_uri": "https://localhost:8080/"
        },
        "id": "VHKnAsG0mKpd",
        "outputId": "f5b0e48e-dc72-4ca9-bfd7-5259b370c9c7"
      },
      "source": [
        "# [0,1,2,3,4]\n",
        "range(5)  # 5하나만 쓰면 0이상 5미만 정수가 순서대로 저장된 리스트를 만들어줌\n"
      ],
      "execution_count": null,
      "outputs": [
        {
          "output_type": "execute_result",
          "data": {
            "text/plain": [
              "range(0, 5)"
            ]
          },
          "metadata": {
            "tags": []
          },
          "execution_count": 162
        }
      ]
    },
    {
      "cell_type": "code",
      "metadata": {
        "colab": {
          "base_uri": "https://localhost:8080/"
        },
        "id": "tY2paYW4r_wm",
        "outputId": "53c067ca-63fb-40c8-f857-003018b5cea6"
      },
      "source": [
        "list(range(5))"
      ],
      "execution_count": null,
      "outputs": [
        {
          "output_type": "execute_result",
          "data": {
            "text/plain": [
              "[0, 1, 2, 3, 4]"
            ]
          },
          "metadata": {
            "tags": []
          },
          "execution_count": 163
        }
      ]
    },
    {
      "cell_type": "code",
      "metadata": {
        "colab": {
          "base_uri": "https://localhost:8080/"
        },
        "id": "JaMautIEsPES",
        "outputId": "d875aa6c-0a92-4432-82fe-273b9f9b146a"
      },
      "source": [
        "# 보고싶으면 리스트써야함\n",
        "range(5, 10) # 5이상 10 미만 정수가 순차적으로 저장된 리스트 만들어줌 [5, 6, 7, 8, 9]"
      ],
      "execution_count": null,
      "outputs": [
        {
          "output_type": "execute_result",
          "data": {
            "text/plain": [
              "range(5, 10)"
            ]
          },
          "metadata": {
            "tags": []
          },
          "execution_count": 164
        }
      ]
    },
    {
      "cell_type": "code",
      "metadata": {
        "colab": {
          "base_uri": "https://localhost:8080/"
        },
        "id": "anPCW30qsagj",
        "outputId": "4816d6b6-738b-434b-8355-36ecf16a5e11"
      },
      "source": [
        "list(range(5, 10))"
      ],
      "execution_count": null,
      "outputs": [
        {
          "output_type": "execute_result",
          "data": {
            "text/plain": [
              "[5, 6, 7, 8, 9]"
            ]
          },
          "metadata": {
            "tags": []
          },
          "execution_count": 166
        }
      ]
    },
    {
      "cell_type": "code",
      "metadata": {
        "colab": {
          "base_uri": "https://localhost:8080/"
        },
        "id": "Z5TnfFcTsiPk",
        "outputId": "19b824e7-2bc3-4323-d922-287853fa1a86"
      },
      "source": [
        "range(1, 10, 4) # 1이상 10미만 4씩 증가하는 정수 [1, 5, 9]"
      ],
      "execution_count": null,
      "outputs": [
        {
          "output_type": "execute_result",
          "data": {
            "text/plain": [
              "range(1, 10, 4)"
            ]
          },
          "metadata": {
            "tags": []
          },
          "execution_count": 171
        }
      ]
    },
    {
      "cell_type": "code",
      "metadata": {
        "colab": {
          "base_uri": "https://localhost:8080/"
        },
        "id": "IZQimO1nstCi",
        "outputId": "686a4789-4550-45d5-ba05-84469d3ebb1f"
      },
      "source": [
        "list(range(1, 10, 4))"
      ],
      "execution_count": null,
      "outputs": [
        {
          "output_type": "execute_result",
          "data": {
            "text/plain": [
              "[1, 5, 9]"
            ]
          },
          "metadata": {
            "tags": []
          },
          "execution_count": 169
        }
      ]
    },
    {
      "cell_type": "code",
      "metadata": {
        "colab": {
          "base_uri": "https://localhost:8080/",
          "height": 186
        },
        "id": "4XNIwxHss0YS",
        "outputId": "23314d45-d069-43fa-c258-64356c19acaf"
      },
      "source": [
        " # renge는 정수를 저장하는데 실수가 나와버려서 안됨  실수가 나와버려서 안됨 \n",
        "range(5.5, 10, 1.0) "
      ],
      "execution_count": null,
      "outputs": [
        {
          "output_type": "error",
          "ename": "TypeError",
          "evalue": "ignored",
          "traceback": [
            "\u001b[0;31m---------------------------------------------------------------------------\u001b[0m",
            "\u001b[0;31mTypeError\u001b[0m                                 Traceback (most recent call last)",
            "\u001b[0;32m<ipython-input-174-22edf1bddaba>\u001b[0m in \u001b[0;36m<module>\u001b[0;34m()\u001b[0m\n\u001b[1;32m      1\u001b[0m \u001b[0;31m# renge는 정수를 저장하는데 실수가 나와버려서 안됨  실수가 나와버려서 안됨\u001b[0m\u001b[0;34m\u001b[0m\u001b[0;34m\u001b[0m\u001b[0;34m\u001b[0m\u001b[0m\n\u001b[0;32m----> 2\u001b[0;31m \u001b[0mrange\u001b[0m\u001b[0;34m(\u001b[0m\u001b[0;36m5.5\u001b[0m\u001b[0;34m,\u001b[0m \u001b[0;36m10\u001b[0m\u001b[0;34m,\u001b[0m \u001b[0;36m1.0\u001b[0m\u001b[0;34m)\u001b[0m\u001b[0;34m\u001b[0m\u001b[0;34m\u001b[0m\u001b[0m\n\u001b[0m",
            "\u001b[0;31mTypeError\u001b[0m: 'float' object cannot be interpreted as an integer"
          ]
        }
      ]
    },
    {
      "cell_type": "markdown",
      "metadata": {
        "id": "Qb0CzXvjuMRd"
      },
      "source": [
        "# 237p"
      ]
    },
    {
      "cell_type": "code",
      "metadata": {
        "colab": {
          "base_uri": "https://localhost:8080/"
        },
        "id": "nplWCYlYtZNu",
        "outputId": "dd406423-5088-4b21-f852-c639140bb2c0"
      },
      "source": [
        "# 파이썬에서 정수끼리 +,-,* 가능 파이썬에서 정수끼리 +,-,* 결과는 정수\n",
        "10 + 1"
      ],
      "execution_count": null,
      "outputs": [
        {
          "output_type": "execute_result",
          "data": {
            "text/plain": [
              "11"
            ]
          },
          "metadata": {
            "tags": []
          },
          "execution_count": 175
        }
      ]
    },
    {
      "cell_type": "code",
      "metadata": {
        "colab": {
          "base_uri": "https://localhost:8080/"
        },
        "id": "PYygKFyOuHQr",
        "outputId": "8a4f73f8-2b40-4011-ab45-b270453cbd67"
      },
      "source": [
        "# 파이썬에서 나눗셈 /의 결과는 무조건 실수\n",
        "10 / 2"
      ],
      "execution_count": null,
      "outputs": [
        {
          "output_type": "execute_result",
          "data": {
            "text/plain": [
              "5.0"
            ]
          },
          "metadata": {
            "tags": []
          },
          "execution_count": 176
        }
      ]
    },
    {
      "cell_type": "code",
      "metadata": {
        "colab": {
          "base_uri": "https://localhost:8080/"
        },
        "id": "QYf3sCNxudRX",
        "outputId": "9c085737-23d3-4d35-c5a0-be040e6409c3"
      },
      "source": [
        "# 파이썬에서 나누니 //의 결과는 정수\n",
        "5 // 2"
      ],
      "execution_count": null,
      "outputs": [
        {
          "output_type": "execute_result",
          "data": {
            "text/plain": [
              "2"
            ]
          },
          "metadata": {
            "tags": []
          },
          "execution_count": 178
        }
      ]
    },
    {
      "cell_type": "markdown",
      "metadata": {
        "id": "5TEyXTzYBg_a"
      },
      "source": [
        "확인문제"
      ]
    },
    {
      "cell_type": "code",
      "metadata": {
        "id": "aiUbIgY4u_Gy"
      },
      "source": [
        "numbers = [273, 103, 5, 32, 65, 9, 72, 800, 99]"
      ],
      "execution_count": null,
      "outputs": []
    },
    {
      "cell_type": "code",
      "metadata": {
        "colab": {
          "base_uri": "https://localhost:8080/"
        },
        "id": "Uj3yy5sO__IT",
        "outputId": "d72a412b-5498-4775-ecdb-a45bfe5307bd"
      },
      "source": [
        "for number in numbers:\n",
        "  if -100 < number:\n",
        "    print(\"-100 이상의 수:\", number)"
      ],
      "execution_count": null,
      "outputs": [
        {
          "output_type": "stream",
          "text": [
            "-100 이상의 수: 273\n",
            "-100 이상의 수: 103\n",
            "-100 이상의 수: 5\n",
            "-100 이상의 수: 32\n",
            "-100 이상의 수: 65\n",
            "-100 이상의 수: 9\n",
            "-100 이상의 수: 72\n",
            "-100 이상의 수: 800\n",
            "-100 이상의 수: 99\n"
          ],
          "name": "stdout"
        }
      ]
    },
    {
      "cell_type": "code",
      "metadata": {
        "colab": {
          "base_uri": "https://localhost:8080/"
        },
        "id": "dYcL62NGAcgq",
        "outputId": "911aa4d9-65cf-4c12-bd4f-cad1d8d5b97d"
      },
      "source": [
        "character = {\n",
        "    \"name\": \"기사\",\n",
        "    \"level\": 12,\n",
        "    \"item\": {\n",
        "        \"sword\": \"불꽃의 검\",\n",
        "        \"anmor\": \"폴플레이트\"\n",
        "    },\n",
        "    \"skill\": [\"베기\", \"세게 베기\", \"아주 세게 베기\"]\n",
        "}\n",
        "\n",
        "for key in character:\n",
        "    if key == \"skill\":\n",
        "        for key2 in character.get(key):\n",
        "            pass\n",
        "    if key == \"item\":\n",
        "      for item in character.get(key):\n",
        "        print(item, \":\", character.get(key).get(item))\n",
        "    elif key == \"skill\":\n",
        "        for skill in character.get(key):\n",
        "            print(key,\":\", skill)\n",
        "    else:\n",
        "        print(key, ':', character.get(key))"
      ],
      "execution_count": null,
      "outputs": [
        {
          "output_type": "stream",
          "text": [
            "name : 기사\n",
            "level : 12\n",
            "sword : 불꽃의 검\n",
            "anmor : 폴플레이트\n",
            "skill : 베기\n",
            "skill : 세게 베기\n",
            "skill : 아주 세게 베기\n"
          ],
          "name": "stdout"
        }
      ]
    },
    {
      "cell_type": "code",
      "metadata": {
        "id": "tB5l63pCDOHW"
      },
      "source": [
        ""
      ],
      "execution_count": null,
      "outputs": []
    }
  ]
}