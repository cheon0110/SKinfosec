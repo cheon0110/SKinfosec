{
  "nbformat": 4,
  "nbformat_minor": 5,
  "metadata": {
    "kernelspec": {
      "display_name": "Python 3",
      "language": "python",
      "name": "python3"
    },
    "language_info": {
      "codemirror_mode": {
        "name": "ipython",
        "version": 3
      },
      "file_extension": ".py",
      "mimetype": "text/x-python",
      "name": "python",
      "nbconvert_exporter": "python",
      "pygments_lexer": "ipython3",
      "version": "3.6.13"
    },
    "colab": {
      "name": "2021-07-06",
      "provenance": [],
      "collapsed_sections": []
    }
  },
  "cells": [
    {
      "cell_type": "code",
      "metadata": {
        "id": "a86045c8",
        "colab": {
          "base_uri": "https://localhost:8080/",
          "height": 245
        },
        "outputId": "26f4cde6-1131-4696-a2ac-78adfabd0a0e"
      },
      "source": [
        "pi = 3.14149\n",
        "pi\n",
        "\n",
        "my_variable = \"안녕파이썬\"\n",
        "my_variable\n",
        "\n",
        "# 안녕하이썬반가워\n",
        "my_variable + \"반가워\"\n",
        "\n",
        "# 안녕하이썬반가워안녕하이썬반가워 ...\n",
        "my_variable * 10\n",
        "\n",
        "# 문자는 문자끼리 숫자는 숫자끼리 + 가능\n",
        "# 글씨랑 숫자랑 + 하면 에러\n",
        "my_variable + 10\n",
        "\n",
        "# 변수에 숫자가 저장되 있으면 + , - , * , / , % 다 가능\n",
        "# 변수에 글씨가 저장되 있으면 + , * 만 가능\n",
        "# my_variable에 글씨가 저장되 있어서 - 불가!!\n",
        "my_variable - \"파이썬\""
      ],
      "id": "a86045c8",
      "execution_count": 2,
      "outputs": [
        {
          "output_type": "error",
          "ename": "TypeError",
          "evalue": "ignored",
          "traceback": [
            "\u001b[0;31m---------------------------------------------------------------------------\u001b[0m",
            "\u001b[0;31mTypeError\u001b[0m                                 Traceback (most recent call last)",
            "\u001b[0;32m<ipython-input-2-8673b37892ee>\u001b[0m in \u001b[0;36m<module>\u001b[0;34m()\u001b[0m\n\u001b[1;32m     13\u001b[0m \u001b[0;31m# 문자는 문자끼리 숫자는 숫자끼리 + 가능\u001b[0m\u001b[0;34m\u001b[0m\u001b[0;34m\u001b[0m\u001b[0;34m\u001b[0m\u001b[0m\n\u001b[1;32m     14\u001b[0m \u001b[0;31m# 글씨랑 숫자랑 + 하면 에러\u001b[0m\u001b[0;34m\u001b[0m\u001b[0;34m\u001b[0m\u001b[0;34m\u001b[0m\u001b[0m\n\u001b[0;32m---> 15\u001b[0;31m \u001b[0mmy_variable\u001b[0m \u001b[0;34m+\u001b[0m \u001b[0;36m10\u001b[0m\u001b[0;34m\u001b[0m\u001b[0;34m\u001b[0m\u001b[0m\n\u001b[0m\u001b[1;32m     16\u001b[0m \u001b[0;34m\u001b[0m\u001b[0m\n\u001b[1;32m     17\u001b[0m \u001b[0;31m# 변수에 숫자가 저장되 있으면 + , - , * , / , % 다 가능\u001b[0m\u001b[0;34m\u001b[0m\u001b[0;34m\u001b[0m\u001b[0;34m\u001b[0m\u001b[0m\n",
            "\u001b[0;31mTypeError\u001b[0m: can only concatenate str (not \"int\") to str"
          ]
        }
      ]
    },
    {
      "cell_type": "code",
      "metadata": {
        "id": "5300bda0",
        "colab": {
          "base_uri": "https://localhost:8080/"
        },
        "outputId": "35b83083-c5cf-45c5-b808-dcce8b674273"
      },
      "source": [
        "number = 100\n",
        "number += 10\n",
        "number # 110\n",
        "\n",
        "number += 20\n",
        "number # 130"
      ],
      "id": "5300bda0",
      "execution_count": null,
      "outputs": [
        {
          "output_type": "execute_result",
          "data": {
            "text/plain": [
              "130"
            ]
          },
          "metadata": {
            "tags": []
          },
          "execution_count": 11
        }
      ]
    },
    {
      "cell_type": "code",
      "metadata": {
        "id": "4f075f69",
        "colab": {
          "base_uri": "https://localhost:8080/"
        },
        "outputId": "e73719fb-03e4-47cb-f72a-b94766593bea"
      },
      "source": [
        "print(\"number에 저장된 값은 ? number\")\n",
        "\n",
        "# , 하고 변수이름 number 쓰면 (따옴표 없음) => 변수에 저장된 값 출력\n",
        "print(\"number에 저장된 값은 ?\", number)"
      ],
      "id": "4f075f69",
      "execution_count": null,
      "outputs": [
        {
          "output_type": "stream",
          "text": [
            "number에 저장된 값은 ? number\n",
            "number에 저장된 값은 ? 130\n"
          ],
          "name": "stdout"
        }
      ]
    },
    {
      "cell_type": "code",
      "metadata": {
        "id": "ba37b8a7",
        "colab": {
          "base_uri": "https://localhost:8080/",
          "height": 35
        },
        "outputId": "1ff5f961-1741-4f43-baae-b7d41eefd13b"
      },
      "source": [
        "string = \"안녕\"\n",
        "string += \"*^^*\"\n",
        "\n",
        "string "
      ],
      "id": "ba37b8a7",
      "execution_count": null,
      "outputs": [
        {
          "output_type": "execute_result",
          "data": {
            "application/vnd.google.colaboratory.intrinsic+json": {
              "type": "string"
            },
            "text/plain": [
              "'안녕*^^*'"
            ]
          },
          "metadata": {
            "tags": []
          },
          "execution_count": 13
        }
      ]
    },
    {
      "cell_type": "code",
      "metadata": {
        "id": "5eb9d0e2",
        "colab": {
          "base_uri": "https://localhost:8080/",
          "height": 176
        },
        "outputId": "4fd75461-9ac6-4c9d-a744-d0bbe0bb42ca"
      },
      "source": [
        "string *= 100\n",
        "string"
      ],
      "id": "5eb9d0e2",
      "execution_count": null,
      "outputs": [
        {
          "output_type": "execute_result",
          "data": {
            "application/vnd.google.colaboratory.intrinsic+json": {
              "type": "string"
            },
            "text/plain": [
              "'안녕*^^*안녕*^^*안녕*^^*안녕*^^*안녕*^^*안녕*^^*안녕*^^*안녕*^^*안녕*^^*안녕*^^*안녕*^^*안녕*^^*안녕*^^*안녕*^^*안녕*^^*안녕*^^*안녕*^^*안녕*^^*안녕*^^*안녕*^^*안녕*^^*안녕*^^*안녕*^^*안녕*^^*안녕*^^*안녕*^^*안녕*^^*안녕*^^*안녕*^^*안녕*^^*안녕*^^*안녕*^^*안녕*^^*안녕*^^*안녕*^^*안녕*^^*안녕*^^*안녕*^^*안녕*^^*안녕*^^*안녕*^^*안녕*^^*안녕*^^*안녕*^^*안녕*^^*안녕*^^*안녕*^^*안녕*^^*안녕*^^*안녕*^^*안녕*^^*안녕*^^*안녕*^^*안녕*^^*안녕*^^*안녕*^^*안녕*^^*안녕*^^*안녕*^^*안녕*^^*안녕*^^*안녕*^^*안녕*^^*안녕*^^*안녕*^^*안녕*^^*안녕*^^*안녕*^^*안녕*^^*안녕*^^*안녕*^^*안녕*^^*안녕*^^*안녕*^^*안녕*^^*안녕*^^*안녕*^^*안녕*^^*안녕*^^*안녕*^^*안녕*^^*안녕*^^*안녕*^^*안녕*^^*안녕*^^*안녕*^^*안녕*^^*안녕*^^*안녕*^^*안녕*^^*안녕*^^*안녕*^^*안녕*^^*안녕*^^*안녕*^^*안녕*^^*안녕*^^*안녕*^^*안녕*^^*안녕*^^*'"
            ]
          },
          "metadata": {
            "tags": []
          },
          "execution_count": 14
        }
      ]
    },
    {
      "cell_type": "markdown",
      "metadata": {
        "id": "kfZDiZSg6IKQ"
      },
      "source": [
        "허현준이 나 에러났다고 비웃는다 : 11-29"
      ],
      "id": "kfZDiZSg6IKQ"
    },
    {
      "cell_type": "code",
      "metadata": {
        "id": "8df8aef5",
        "colab": {
          "base_uri": "https://localhost:8080/",
          "height": 72
        },
        "outputId": "8e811730-347c-403f-9545-baddaf6674e0"
      },
      "source": [
        "input(\"인사말을 입력>\")\n",
        "string = input(\"인사말을 입력>\")\n",
        "string"
      ],
      "id": "8df8aef5",
      "execution_count": 1,
      "outputs": [
        {
          "name": "stdout",
          "output_type": "stream",
          "text": [
            "인사말을 입력>안녕\n",
            "인사말을 입력>안녕\n"
          ]
        },
        {
          "output_type": "execute_result",
          "data": {
            "application/vnd.google.colaboratory.intrinsic+json": {
              "type": "string"
            },
            "text/plain": [
              "'안녕'"
            ]
          },
          "metadata": {},
          "execution_count": 1
        }
      ]
    },
    {
      "cell_type": "code",
      "metadata": {
        "id": "78350a9f",
        "colab": {
          "base_uri": "https://localhost:8080/",
          "height": 53
        },
        "outputId": "bddf8434-4960-47a1-bc90-fdafb29f318f"
      },
      "source": [
        "age = input(\"나이 입력 : \")\n",
        "age"
      ],
      "id": "78350a9f",
      "execution_count": null,
      "outputs": [
        {
          "output_type": "stream",
          "text": [
            "나이 입력 : 55\n"
          ],
          "name": "stdout"
        },
        {
          "output_type": "execute_result",
          "data": {
            "application/vnd.google.colaboratory.intrinsic+json": {
              "type": "string"
            },
            "text/plain": [
              "'55'"
            ]
          },
          "metadata": {
            "tags": []
          },
          "execution_count": 16
        }
      ]
    },
    {
      "cell_type": "code",
      "metadata": {
        "id": "0e22824d",
        "outputId": "3868c0f8-2b79-48d8-d74a-146538861441"
      },
      "source": [
        ""
      ],
      "id": "0e22824d",
      "execution_count": null,
      "outputs": [
        {
          "output_type": "execute_result",
          "data": {
            "text/plain": [
              "'먹을만큼 먹었습니다'"
            ]
          },
          "metadata": {
            "tags": []
          },
          "execution_count": 22
        }
      ]
    },
    {
      "cell_type": "code",
      "metadata": {
        "id": "bcc28d0b"
      },
      "source": [
        "number1 = 100\n",
        "number2 = 3.14\n",
        "str1 = \"안녕\"\n",
        "\n",
        "# number1 변수에 저장된 값의 타입 int(정수, 자연수, 소숫점 없는수)\n",
        "type(number1)\n",
        "\n",
        "# number2 변수에 저장된 값 타입 float (실수, 소숫점 있는 숫자)\n",
        "type(number2)\n",
        "\n",
        "# str1 변수에 저장된 값의 타입 str (글씨들)\n",
        "type(str1)"
      ],
      "id": "bcc28d0b",
      "execution_count": null,
      "outputs": []
    },
    {
      "cell_type": "code",
      "metadata": {
        "id": "0506f3f7",
        "colab": {
          "base_uri": "https://localhost:8080/",
          "height": 70
        },
        "outputId": "697210fb-e747-48a7-f8cf-213599a219bb"
      },
      "source": [
        "a = input(\"숫자1>\")\n",
        "b = input(\"숫자2>\")\n",
        "a + b\n",
        "\n",
        "# 변수 a 에 저장된 값 55 가 문자 \"55\"\n",
        "type(a)\n",
        "\n",
        "type(b)\n",
        "\n",
        "int(a)\n",
        "\n",
        "# 글씨 52를 정수 숫자로 변환\n",
        "int(\"52\")\n",
        "\n",
        "# 소숫점이 있는 52.273을 정수로 변환 => 에러\n",
        "int(\"52.273\")"
      ],
      "id": "0506f3f7",
      "execution_count": null,
      "outputs": [
        {
          "output_type": "stream",
          "text": [
            "숫자1>11\n",
            "숫자2>22\n"
          ],
          "name": "stdout"
        },
        {
          "output_type": "execute_result",
          "data": {
            "application/vnd.google.colaboratory.intrinsic+json": {
              "type": "string"
            },
            "text/plain": [
              "'1122'"
            ]
          },
          "metadata": {
            "tags": []
          },
          "execution_count": 17
        }
      ]
    },
    {
      "cell_type": "code",
      "metadata": {
        "id": "nbFQfVkKH2vV",
        "colab": {
          "base_uri": "https://localhost:8080/"
        },
        "outputId": "3fe47d79-42e4-494d-a2f1-f635d2ee9ff2"
      },
      "source": [
        "True"
      ],
      "id": "nbFQfVkKH2vV",
      "execution_count": null,
      "outputs": [
        {
          "output_type": "execute_result",
          "data": {
            "text/plain": [
              "True"
            ]
          },
          "metadata": {
            "tags": []
          },
          "execution_count": 18
        }
      ]
    },
    {
      "cell_type": "code",
      "metadata": {
        "id": "ZDcf03NlIkew",
        "colab": {
          "base_uri": "https://localhost:8080/"
        },
        "outputId": "08667fe4-a4dd-4656-deed-d5ed101a21df"
      },
      "source": [
        "False"
      ],
      "id": "ZDcf03NlIkew",
      "execution_count": null,
      "outputs": [
        {
          "output_type": "execute_result",
          "data": {
            "text/plain": [
              "False"
            ]
          },
          "metadata": {
            "tags": []
          },
          "execution_count": 19
        }
      ]
    },
    {
      "cell_type": "code",
      "metadata": {
        "id": "KGOq1isUImPf",
        "colab": {
          "base_uri": "https://localhost:8080/"
        },
        "outputId": "40bbda01-5336-4a64-85ba-0d1e17b97b2b"
      },
      "source": [
        "# 0은 0과 같다\n",
        "0 == 0\n",
        "\n",
        "# 0은 0과 다르다\n",
        "0 != 0\n",
        "\n",
        "0 < 10\n",
        "0 > 10\n",
        "\n",
        "# 10은 10 이하이다\n",
        "10 <= 10\n",
        "\n",
        "10 >= 10"
      ],
      "id": "KGOq1isUImPf",
      "execution_count": null,
      "outputs": [
        {
          "output_type": "execute_result",
          "data": {
            "text/plain": [
              "False"
            ]
          },
          "metadata": {
            "tags": []
          },
          "execution_count": 18
        }
      ]
    },
    {
      "cell_type": "code",
      "metadata": {
        "id": "1QXVS7jBJkMN"
      },
      "source": [
        "# 문자가 숫자로 자동으로 변신해서 저장됨 (Encoding)\n",
        "# A -> 65\n",
        "# B -> 66\n",
        "str1 = \"AB\""
      ],
      "id": "1QXVS7jBJkMN",
      "execution_count": null,
      "outputs": []
    },
    {
      "cell_type": "code",
      "metadata": {
        "id": "LMnPNoC0NDtB"
      },
      "source": [
        "# 문자가 숫자로 변신해서 저장( Encoding)\n",
        "# C -> 67\n",
        "# B -> 66\n",
        "str2 = \"CB\""
      ],
      "id": "LMnPNoC0NDtB",
      "execution_count": null,
      "outputs": []
    },
    {
      "cell_type": "code",
      "metadata": {
        "id": "gnRrLcYYNXoj"
      },
      "source": [
        "str3 = \"AD\""
      ],
      "id": "gnRrLcYYNXoj",
      "execution_count": null,
      "outputs": []
    },
    {
      "cell_type": "code",
      "metadata": {
        "id": "BUuqUJUZNbzv",
        "colab": {
          "base_uri": "https://localhost:8080/"
        },
        "outputId": "17656fac-1c89-402e-c112-506be91b4777"
      },
      "source": [
        "# 맨 첫 글자의 숫자를 비교해서 \n",
        "# 맨첫글자의 숫자가 큰게 큰 것\n",
        "# str1 => A(65) 시작\n",
        "# str2 => C(67) 시작\n",
        "# str2 가 큼\n",
        "str1 < str2"
      ],
      "id": "BUuqUJUZNbzv",
      "execution_count": null,
      "outputs": [
        {
          "output_type": "execute_result",
          "data": {
            "text/plain": [
              "True"
            ]
          },
          "metadata": {
            "tags": []
          },
          "execution_count": 39
        }
      ]
    },
    {
      "cell_type": "code",
      "metadata": {
        "id": "vsRcEjnHNqC6",
        "colab": {
          "base_uri": "https://localhost:8080/"
        },
        "outputId": "33bcf06f-0270-4bd0-e0b4-54fba3ab3fc6"
      },
      "source": [
        "# str1 : \"AB\" => 65 66\n",
        "# str3 : \"AD\" => 65 68\n",
        "# 첫 글자 같으면 두번째 글자 숫자가 큰것이 크다\n",
        "str1 < str3"
      ],
      "id": "vsRcEjnHNqC6",
      "execution_count": null,
      "outputs": [
        {
          "output_type": "execute_result",
          "data": {
            "text/plain": [
              "True"
            ]
          },
          "metadata": {
            "tags": []
          },
          "execution_count": 40
        }
      ]
    },
    {
      "cell_type": "code",
      "metadata": {
        "id": "5g7eBKhpOlGt",
        "colab": {
          "base_uri": "https://localhost:8080/"
        },
        "outputId": "c73f3f0e-b190-42ef-95c1-c70012f7b9d7"
      },
      "source": [
        "print(\"가방\" == \"가방\")"
      ],
      "id": "5g7eBKhpOlGt",
      "execution_count": null,
      "outputs": [
        {
          "output_type": "stream",
          "text": [
            "True\n"
          ],
          "name": "stdout"
        }
      ]
    },
    {
      "cell_type": "code",
      "metadata": {
        "id": "89aQY0L5RPbT",
        "colab": {
          "base_uri": "https://localhost:8080/"
        },
        "outputId": "7b4c74f3-c28c-444a-d9e4-3c4aca486ff0"
      },
      "source": [
        "number = input(\"정수입력 > \")"
      ],
      "id": "89aQY0L5RPbT",
      "execution_count": null,
      "outputs": [
        {
          "output_type": "stream",
          "text": [
            "정수입력 > 273\n"
          ],
          "name": "stdout"
        }
      ]
    },
    {
      "cell_type": "code",
      "metadata": {
        "colab": {
          "base_uri": "https://localhost:8080/",
          "height": 35
        },
        "id": "QG_dEyySUKmX",
        "outputId": "4964ea62-2cd7-4fed-fa8e-ee07dca55bf9"
      },
      "source": [
        "number"
      ],
      "id": "QG_dEyySUKmX",
      "execution_count": null,
      "outputs": [
        {
          "output_type": "execute_result",
          "data": {
            "application/vnd.google.colaboratory.intrinsic+json": {
              "type": "string"
            },
            "text/plain": [
              "'273'"
            ]
          },
          "metadata": {
            "tags": []
          },
          "execution_count": 9
        }
      ]
    },
    {
      "cell_type": "code",
      "metadata": {
        "colab": {
          "base_uri": "https://localhost:8080/"
        },
        "id": "Ivg-6ymUUTHS",
        "outputId": "125069d6-45a2-49e1-eda2-796ecd72460e"
      },
      "source": [
        "if int(number) > 0 :\n",
        "      print(\"number에 저장된 값은 양수\")\n",
        "      print(\"그래서 예쁘다\")"
      ],
      "id": "Ivg-6ymUUTHS",
      "execution_count": null,
      "outputs": [
        {
          "output_type": "stream",
          "text": [
            "number에 저장된 값은 양수\n",
            "그래서 예쁘다\n"
          ],
          "name": "stdout"
        }
      ]
    },
    {
      "cell_type": "code",
      "metadata": {
        "colab": {
          "base_uri": "https://localhost:8080/"
        },
        "id": "FuLfAsTPUeYO",
        "outputId": "c7b584eb-8fa9-468d-bea3-979a5ed3bf53"
      },
      "source": [
        "if True:\n",
        "        print(\"난 항상\")\n",
        "        print(\"실행되지\")"
      ],
      "id": "FuLfAsTPUeYO",
      "execution_count": null,
      "outputs": [
        {
          "output_type": "stream",
          "text": [
            "난 항상\n",
            "실행되지\n"
          ],
          "name": "stdout"
        }
      ]
    },
    {
      "cell_type": "markdown",
      "metadata": {
        "id": "0eaFWlflYXsM"
      },
      "source": [
        "\n",
        "# 파이썬에서 0, None 은 False랑 같음\n",
        "# 파이썬에서 0이 아님, none아님 = True랑 같다"
      ],
      "id": "0eaFWlflYXsM"
    },
    {
      "cell_type": "code",
      "metadata": {
        "id": "tB911-hJW_ip"
      },
      "source": [
        "if False :\n",
        "    print(\"난 실행이 안 됨\")\n",
        "    print(\"영원히 안되지\")"
      ],
      "id": "tB911-hJW_ip",
      "execution_count": null,
      "outputs": []
    },
    {
      "cell_type": "code",
      "metadata": {
        "id": "-ok7nHhKXX0j"
      },
      "source": [
        "if None :\n",
        "    print(\"난 실행이 안 됨\")\n",
        "    print(\"영원히 안되지\")"
      ],
      "id": "-ok7nHhKXX0j",
      "execution_count": null,
      "outputs": []
    },
    {
      "cell_type": "code",
      "metadata": {
        "id": "UqkMjs40X9op"
      },
      "source": [
        "if 0 :\n",
        "    print(\"난 실행이 안 됨\")\n",
        "    print(\"영원히 안되지\")"
      ],
      "id": "UqkMjs40X9op",
      "execution_count": null,
      "outputs": []
    },
    {
      "cell_type": "code",
      "metadata": {
        "colab": {
          "base_uri": "https://localhost:8080/"
        },
        "id": "6wm9TWjCYJkP",
        "outputId": "d1320298-975f-45c9-ac61-02570b2af7ab"
      },
      "source": [
        "if 1:\n",
        "        print(\"난 항상\")\n",
        "        print(\"실행되지\")"
      ],
      "id": "6wm9TWjCYJkP",
      "execution_count": null,
      "outputs": [
        {
          "output_type": "stream",
          "text": [
            "난 항상\n",
            "실행되지\n"
          ],
          "name": "stdout"
        }
      ]
    },
    {
      "cell_type": "code",
      "metadata": {
        "colab": {
          "base_uri": "https://localhost:8080/"
        },
        "id": "YjFaL7WLYS3f",
        "outputId": "e5b2ceb9-f36d-49ae-f1f8-dde9559cc373"
      },
      "source": [
        "if not None:\n",
        "        print(\"난 항상\")\n",
        "        print(\"실행되지\")"
      ],
      "id": "YjFaL7WLYS3f",
      "execution_count": null,
      "outputs": [
        {
          "output_type": "stream",
          "text": [
            "난 항상\n",
            "실행되지\n"
          ],
          "name": "stdout"
        }
      ]
    },
    {
      "cell_type": "code",
      "metadata": {
        "colab": {
          "base_uri": "https://localhost:8080/"
        },
        "id": "u1crEtsjZAvY",
        "outputId": "81b058a9-a040-4b0c-dc04-084be6fbebd1"
      },
      "source": [
        "# True와 False 계산 가능\n",
        "# False -> 0 으로 계산\n",
        "# True -> 1로 계산\n",
        "# 1 + 1 + 0 + 1\n",
        "True + True + False + True"
      ],
      "id": "u1crEtsjZAvY",
      "execution_count": null,
      "outputs": [
        {
          "output_type": "execute_result",
          "data": {
            "text/plain": [
              "3"
            ]
          },
          "metadata": {
            "tags": []
          },
          "execution_count": 18
        }
      ]
    },
    {
      "cell_type": "code",
      "metadata": {
        "id": "Oh2wEWnvZRQp"
      },
      "source": [
        "import datetime"
      ],
      "id": "Oh2wEWnvZRQp",
      "execution_count": null,
      "outputs": []
    },
    {
      "cell_type": "code",
      "metadata": {
        "colab": {
          "base_uri": "https://localhost:8080/"
        },
        "id": "uN0XPdbMabGM",
        "outputId": "c6b9cff1-c7dc-4959-de36-155c4ff6fea5"
      },
      "source": [
        "datetime.datetime.now()"
      ],
      "id": "uN0XPdbMabGM",
      "execution_count": null,
      "outputs": [
        {
          "output_type": "execute_result",
          "data": {
            "text/plain": [
              "datetime.datetime(2021, 7, 6, 6, 6, 31, 394845)"
            ]
          },
          "metadata": {
            "tags": []
          },
          "execution_count": 25
        }
      ]
    },
    {
      "cell_type": "code",
      "metadata": {
        "colab": {
          "base_uri": "https://localhost:8080/"
        },
        "id": "mDP0ehyJaf3M",
        "outputId": "726cd612-4c04-4d3d-ead5-c4b641474a95"
      },
      "source": [
        "print(now.year, \"년\")"
      ],
      "id": "mDP0ehyJaf3M",
      "execution_count": null,
      "outputs": [
        {
          "output_type": "stream",
          "text": [
            "2021 년\n"
          ],
          "name": "stdout"
        }
      ]
    },
    {
      "cell_type": "code",
      "metadata": {
        "colab": {
          "base_uri": "https://localhost:8080/"
        },
        "id": "Oh1rYdM4aoqh",
        "outputId": "0e0f402c-bdfb-4335-c441-ad3d4e5414cf"
      },
      "source": [
        "print(now.year, \"월\")"
      ],
      "id": "Oh1rYdM4aoqh",
      "execution_count": null,
      "outputs": [
        {
          "output_type": "stream",
          "text": [
            "2021 월\n"
          ],
          "name": "stdout"
        }
      ]
    },
    {
      "cell_type": "code",
      "metadata": {
        "colab": {
          "base_uri": "https://localhost:8080/"
        },
        "id": "bJJy6PiBar5g",
        "outputId": "b0e4e611-33f6-4937-8a7e-88b8319707eb"
      },
      "source": [
        "print(now.month, \"월\")"
      ],
      "id": "bJJy6PiBar5g",
      "execution_count": null,
      "outputs": [
        {
          "output_type": "stream",
          "text": [
            "7 월\n"
          ],
          "name": "stdout"
        }
      ]
    },
    {
      "cell_type": "code",
      "metadata": {
        "id": "oZejNHjYblAH"
      },
      "source": [
        "this_moment = datetime.datetime.now()"
      ],
      "id": "oZejNHjYblAH",
      "execution_count": null,
      "outputs": []
    },
    {
      "cell_type": "code",
      "metadata": {
        "colab": {
          "base_uri": "https://localhost:8080/"
        },
        "id": "TtuyLLpOb-QE",
        "outputId": "67e01483-2389-43a5-8cea-b052e1d8c056"
      },
      "source": [
        "this_moment"
      ],
      "id": "TtuyLLpOb-QE",
      "execution_count": null,
      "outputs": [
        {
          "output_type": "execute_result",
          "data": {
            "text/plain": [
              "datetime.datetime(2021, 7, 6, 6, 9, 51, 253688)"
            ]
          },
          "metadata": {
            "tags": []
          },
          "execution_count": 30
        }
      ]
    },
    {
      "cell_type": "code",
      "metadata": {
        "colab": {
          "base_uri": "https://localhost:8080/"
        },
        "id": "z-UTwfzKcCib",
        "outputId": "5e85bfae-03b5-4936-b895-1ada8ab556aa"
      },
      "source": [
        "this_moment.year"
      ],
      "id": "z-UTwfzKcCib",
      "execution_count": null,
      "outputs": [
        {
          "output_type": "execute_result",
          "data": {
            "text/plain": [
              "2021"
            ]
          },
          "metadata": {
            "tags": []
          },
          "execution_count": 31
        }
      ]
    },
    {
      "cell_type": "code",
      "metadata": {
        "colab": {
          "base_uri": "https://localhost:8080/"
        },
        "id": "TN5oWhBBcOjY",
        "outputId": "b16bf6e7-7fb2-4910-c1d8-c57a74d759a5"
      },
      "source": [
        "this_moment.month"
      ],
      "id": "TN5oWhBBcOjY",
      "execution_count": null,
      "outputs": [
        {
          "output_type": "execute_result",
          "data": {
            "text/plain": [
              "7"
            ]
          },
          "metadata": {
            "tags": []
          },
          "execution_count": 32
        }
      ]
    },
    {
      "cell_type": "code",
      "metadata": {
        "colab": {
          "base_uri": "https://localhost:8080/"
        },
        "id": "E2Arsnf5cRkj",
        "outputId": "faa7d9c9-3a41-45ae-d922-62f68cf51695"
      },
      "source": [
        "this_moment.day"
      ],
      "id": "E2Arsnf5cRkj",
      "execution_count": null,
      "outputs": [
        {
          "output_type": "execute_result",
          "data": {
            "text/plain": [
              "6"
            ]
          },
          "metadata": {
            "tags": []
          },
          "execution_count": 33
        }
      ]
    },
    {
      "cell_type": "code",
      "metadata": {
        "colab": {
          "base_uri": "https://localhost:8080/"
        },
        "id": "vqPVv7cicYwy",
        "outputId": "45ae311f-d41e-4c5f-ad5b-a61cd03e228c"
      },
      "source": [
        "this_moment.hour"
      ],
      "id": "vqPVv7cicYwy",
      "execution_count": null,
      "outputs": [
        {
          "output_type": "execute_result",
          "data": {
            "text/plain": [
              "6"
            ]
          },
          "metadata": {
            "tags": []
          },
          "execution_count": 34
        }
      ]
    },
    {
      "cell_type": "code",
      "metadata": {
        "colab": {
          "base_uri": "https://localhost:8080/"
        },
        "id": "NW4nRIFTcdS4",
        "outputId": "0de1b8e2-323f-44ed-b4a7-0e73acf7925d"
      },
      "source": [
        "this_moment.second"
      ],
      "id": "NW4nRIFTcdS4",
      "execution_count": null,
      "outputs": [
        {
          "output_type": "execute_result",
          "data": {
            "text/plain": [
              "51"
            ]
          },
          "metadata": {
            "tags": []
          },
          "execution_count": 35
        }
      ]
    },
    {
      "cell_type": "code",
      "metadata": {
        "colab": {
          "base_uri": "https://localhost:8080/"
        },
        "id": "_jbdwTHscl9h",
        "outputId": "8c3e4beb-3ad8-466d-ee41-ff320f4331b0"
      },
      "source": [
        "print(this_moment.year , \"년\")"
      ],
      "id": "_jbdwTHscl9h",
      "execution_count": null,
      "outputs": [
        {
          "output_type": "stream",
          "text": [
            "2021 년\n"
          ],
          "name": "stdout"
        }
      ]
    },
    {
      "cell_type": "code",
      "metadata": {
        "colab": {
          "base_uri": "https://localhost:8080/"
        },
        "id": "heEFPU9acx40",
        "outputId": "0baf7062-cb36-4120-c681-06a7bc7ada29"
      },
      "source": [
        "print(this_moment.month, \"월\")"
      ],
      "id": "heEFPU9acx40",
      "execution_count": null,
      "outputs": [
        {
          "output_type": "stream",
          "text": [
            "7 월\n"
          ],
          "name": "stdout"
        }
      ]
    },
    {
      "cell_type": "code",
      "metadata": {
        "colab": {
          "base_uri": "https://localhost:8080/"
        },
        "id": "UXukTE0Ec5C1",
        "outputId": "2db900e8-5357-47a2-9c30-6721c2d2e818"
      },
      "source": [
        "print(this_moment.day, \"일\")"
      ],
      "id": "UXukTE0Ec5C1",
      "execution_count": null,
      "outputs": [
        {
          "output_type": "stream",
          "text": [
            "6 일\n"
          ],
          "name": "stdout"
        }
      ]
    },
    {
      "cell_type": "code",
      "metadata": {
        "colab": {
          "base_uri": "https://localhost:8080/"
        },
        "id": "F8yaiBusc-Bu",
        "outputId": "8a82d4a2-0194-481f-90c9-856c6d4021a5"
      },
      "source": [
        "print(this_moment.hour, \"시\")"
      ],
      "id": "F8yaiBusc-Bu",
      "execution_count": null,
      "outputs": [
        {
          "output_type": "stream",
          "text": [
            "6 시\n"
          ],
          "name": "stdout"
        }
      ]
    },
    {
      "cell_type": "code",
      "metadata": {
        "colab": {
          "base_uri": "https://localhost:8080/"
        },
        "id": "uieDzQ7_dFXq",
        "outputId": "147d93a8-aa8f-4c39-c592-0d4d518742ca"
      },
      "source": [
        "print(\n",
        "    this_moment. year, \"년\",\n",
        "    this_moment.month, \"월\",\n",
        "    this_moment.day, \"일\"\n",
        ")"
      ],
      "id": "uieDzQ7_dFXq",
      "execution_count": null,
      "outputs": [
        {
          "output_type": "stream",
          "text": [
            "2021 년 7 월 6 일\n"
          ],
          "name": "stdout"
        }
      ]
    },
    {
      "cell_type": "code",
      "metadata": {
        "colab": {
          "base_uri": "https://localhost:8080/",
          "height": 35
        },
        "id": "21t6lP3HdS0B",
        "outputId": "4c865c39-a10c-4835-9589-2aec48872c3c"
      },
      "source": [
        "\"{}년 {}월 {}일\". format(\n",
        "                        this_moment.year,\n",
        "                        this_moment.month,\n",
        "                        this_moment.day)"
      ],
      "id": "21t6lP3HdS0B",
      "execution_count": null,
      "outputs": [
        {
          "output_type": "execute_result",
          "data": {
            "application/vnd.google.colaboratory.intrinsic+json": {
              "type": "string"
            },
            "text/plain": [
              "'2021년 7월 6일'"
            ]
          },
          "metadata": {
            "tags": []
          },
          "execution_count": 43
        }
      ]
    },
    {
      "cell_type": "code",
      "metadata": {
        "colab": {
          "base_uri": "https://localhost:8080/"
        },
        "id": "GVTTfv1vdji7",
        "outputId": "3d0ddbfd-e637-4230-9124-22e3ea32bc3e"
      },
      "source": [
        "if this_moment.hour < 12:\n",
        "    print(\"현재 시각은 {}시로 오전입니다\".format(this_moment.hour))"
      ],
      "id": "GVTTfv1vdji7",
      "execution_count": null,
      "outputs": [
        {
          "output_type": "stream",
          "text": [
            "현재 시각은 6시로 오전입니다\n"
          ],
          "name": "stdout"
        }
      ]
    },
    {
      "cell_type": "code",
      "metadata": {
        "colab": {
          "base_uri": "https://localhost:8080/"
        },
        "id": "ZsCaullsewXH",
        "outputId": "8f10bf66-e847-449c-9436-77c7c9639888"
      },
      "source": [
        "# 자릿수 알기\n",
        "number = input(\"정수 입력 > \")"
      ],
      "id": "ZsCaullsewXH",
      "execution_count": null,
      "outputs": [
        {
          "output_type": "stream",
          "text": [
            "정수 입력 > 12345\n"
          ],
          "name": "stdout"
        }
      ]
    },
    {
      "cell_type": "code",
      "metadata": {
        "id": "iRw9xy2knKrE"
      },
      "source": [
        "number = \"2790\""
      ],
      "id": "iRw9xy2knKrE",
      "execution_count": null,
      "outputs": []
    },
    {
      "cell_type": "code",
      "metadata": {
        "colab": {
          "base_uri": "https://localhost:8080/",
          "height": 35
        },
        "id": "PSFaOqwUnV1E",
        "outputId": "4cf6a71c-e0c3-4ddf-c5cf-9cd428314b37"
      },
      "source": [
        "number[-1]"
      ],
      "id": "PSFaOqwUnV1E",
      "execution_count": null,
      "outputs": [
        {
          "output_type": "execute_result",
          "data": {
            "application/vnd.google.colaboratory.intrinsic+json": {
              "type": "string"
            },
            "text/plain": [
              "'0'"
            ]
          },
          "metadata": {
            "tags": []
          },
          "execution_count": 54
        }
      ]
    },
    {
      "cell_type": "code",
      "metadata": {
        "colab": {
          "base_uri": "https://localhost:8080/",
          "height": 35
        },
        "id": "sKaw8ScVna0h",
        "outputId": "99c4aefa-3516-4900-bc99-2ff98953e78f"
      },
      "source": [
        "number[-2]"
      ],
      "id": "sKaw8ScVna0h",
      "execution_count": null,
      "outputs": [
        {
          "output_type": "execute_result",
          "data": {
            "application/vnd.google.colaboratory.intrinsic+json": {
              "type": "string"
            },
            "text/plain": [
              "'9'"
            ]
          },
          "metadata": {
            "tags": []
          },
          "execution_count": 55
        }
      ]
    },
    {
      "cell_type": "code",
      "metadata": {
        "colab": {
          "base_uri": "https://localhost:8080/",
          "height": 35
        },
        "id": "otcDb8p2neFo",
        "outputId": "e91a8bbc-0cf8-4708-f69a-729e659631b8"
      },
      "source": [
        "number[-3]"
      ],
      "id": "otcDb8p2neFo",
      "execution_count": null,
      "outputs": [
        {
          "output_type": "execute_result",
          "data": {
            "application/vnd.google.colaboratory.intrinsic+json": {
              "type": "string"
            },
            "text/plain": [
              "'7'"
            ]
          },
          "metadata": {
            "tags": []
          },
          "execution_count": 56
        }
      ]
    },
    {
      "cell_type": "code",
      "metadata": {
        "colab": {
          "base_uri": "https://localhost:8080/",
          "height": 35
        },
        "id": "cN2urBtJngJA",
        "outputId": "5212e7cc-c95a-4f14-fbb3-6e0ff1899a6b"
      },
      "source": [
        "number[1]"
      ],
      "id": "cN2urBtJngJA",
      "execution_count": null,
      "outputs": [
        {
          "output_type": "execute_result",
          "data": {
            "application/vnd.google.colaboratory.intrinsic+json": {
              "type": "string"
            },
            "text/plain": [
              "'7'"
            ]
          },
          "metadata": {
            "tags": []
          },
          "execution_count": 57
        }
      ]
    },
    {
      "cell_type": "code",
      "metadata": {
        "colab": {
          "base_uri": "https://localhost:8080/",
          "height": 35
        },
        "id": "laCAGZHPniwK",
        "outputId": "4f96c30f-4b8a-4916-bfde-c36d25cef896"
      },
      "source": [
        "number[0]"
      ],
      "id": "laCAGZHPniwK",
      "execution_count": null,
      "outputs": [
        {
          "output_type": "execute_result",
          "data": {
            "application/vnd.google.colaboratory.intrinsic+json": {
              "type": "string"
            },
            "text/plain": [
              "'1'"
            ]
          },
          "metadata": {
            "tags": []
          },
          "execution_count": 52
        }
      ]
    },
    {
      "cell_type": "code",
      "metadata": {
        "id": "rIL1Rfy7nmNw"
      },
      "source": [
        "last_character = number[-1]"
      ],
      "id": "rIL1Rfy7nmNw",
      "execution_count": null,
      "outputs": []
    },
    {
      "cell_type": "code",
      "metadata": {
        "colab": {
          "base_uri": "https://localhost:8080/",
          "height": 35
        },
        "id": "izgJ5XzroZsL",
        "outputId": "b55bc369-a03b-49a3-e7ee-bd4977f192fb"
      },
      "source": [
        "last_character"
      ],
      "id": "izgJ5XzroZsL",
      "execution_count": null,
      "outputs": [
        {
          "output_type": "execute_result",
          "data": {
            "application/vnd.google.colaboratory.intrinsic+json": {
              "type": "string"
            },
            "text/plain": [
              "'0'"
            ]
          },
          "metadata": {
            "tags": []
          },
          "execution_count": 79
        }
      ]
    },
    {
      "cell_type": "code",
      "metadata": {
        "colab": {
          "base_uri": "https://localhost:8080/"
        },
        "id": "TmNzaPRXoeDA",
        "outputId": "e16ec884-0284-479e-8606-7ae5d44c52fb"
      },
      "source": [
        "int(last_character)"
      ],
      "id": "TmNzaPRXoeDA",
      "execution_count": null,
      "outputs": [
        {
          "output_type": "execute_result",
          "data": {
            "text/plain": [
              "0"
            ]
          },
          "metadata": {
            "tags": []
          },
          "execution_count": 80
        }
      ]
    },
    {
      "cell_type": "code",
      "metadata": {
        "colab": {
          "base_uri": "https://localhost:8080/",
          "height": 35
        },
        "id": "gLcOPO-GokhH",
        "outputId": "40de8879-d64e-4972-d763-27f770f48fb9"
      },
      "source": [
        "last_character"
      ],
      "id": "gLcOPO-GokhH",
      "execution_count": null,
      "outputs": [
        {
          "output_type": "execute_result",
          "data": {
            "application/vnd.google.colaboratory.intrinsic+json": {
              "type": "string"
            },
            "text/plain": [
              "'0'"
            ]
          },
          "metadata": {
            "tags": []
          },
          "execution_count": 81
        }
      ]
    },
    {
      "cell_type": "code",
      "metadata": {
        "id": "_A3RRDRwop5J"
      },
      "source": [
        "last_number = int(last_character)"
      ],
      "id": "_A3RRDRwop5J",
      "execution_count": null,
      "outputs": []
    },
    {
      "cell_type": "code",
      "metadata": {
        "colab": {
          "base_uri": "https://localhost:8080/"
        },
        "id": "JqKZrbxCosQC",
        "outputId": "57684c5d-1426-4738-f33e-f0b0666520eb"
      },
      "source": [
        "last_number"
      ],
      "id": "JqKZrbxCosQC",
      "execution_count": null,
      "outputs": [
        {
          "output_type": "execute_result",
          "data": {
            "text/plain": [
              "0"
            ]
          },
          "metadata": {
            "tags": []
          },
          "execution_count": 83
        }
      ]
    },
    {
      "cell_type": "code",
      "metadata": {
        "id": "MXthCJ_4oyrw"
      },
      "source": [
        "# 조건처럼 1줄로 써야함 옆으로 길게 그래서 오류\n",
        "# \\하고 줄 바꾸기\n",
        "# \\뒤에 공백이 있으면 안됨\n",
        "if last_number == 0 \n",
        "or last_number== 2 \n",
        "or last_number == 4:\n",
        "    print(\"짝수\")"
      ],
      "id": "MXthCJ_4oyrw",
      "execution_count": null,
      "outputs": []
    },
    {
      "cell_type": "code",
      "metadata": {
        "colab": {
          "base_uri": "https://localhost:8080/"
        },
        "id": "G8bu5qrno6qj",
        "outputId": "39cbd8b8-35f9-4a19-8799-8e8b30066c3e"
      },
      "source": [
        "if last_number == 0 \\\n",
        "  or last_number== 2 \\\n",
        "  or last_number == 4 :\n",
        "    print(\"짝수\")"
      ],
      "id": "G8bu5qrno6qj",
      "execution_count": null,
      "outputs": [
        {
          "output_type": "stream",
          "text": [
            "짝수\n"
          ],
          "name": "stdout"
        }
      ]
    },
    {
      "cell_type": "code",
      "metadata": {
        "id": "kQE-Hbhrpeph"
      },
      "source": [
        "str1 = \"난\""
      ],
      "id": "kQE-Hbhrpeph",
      "execution_count": null,
      "outputs": []
    },
    {
      "cell_type": "code",
      "metadata": {
        "colab": {
          "base_uri": "https://localhost:8080/"
        },
        "id": "lYLKd4xBq9iy",
        "outputId": "8b160efc-a0a8-4273-c2f8-530b7b2a4eb8"
      },
      "source": [
        "# str1 (\"난\")이 \"매난국죽\"에 포함되어있으면 True\n",
        "str1 in \"매난국죽\""
      ],
      "id": "lYLKd4xBq9iy",
      "execution_count": null,
      "outputs": [
        {
          "output_type": "execute_result",
          "data": {
            "text/plain": [
              "True"
            ]
          },
          "metadata": {
            "tags": []
          },
          "execution_count": 86
        }
      ]
    },
    {
      "cell_type": "code",
      "metadata": {
        "colab": {
          "base_uri": "https://localhost:8080/"
        },
        "id": "xNZVi8EZrBHM",
        "outputId": "2a6824d4-c37a-4192-eddd-1b1daf427a71"
      },
      "source": [
        "str1 in \"가나다라\""
      ],
      "id": "xNZVi8EZrBHM",
      "execution_count": null,
      "outputs": [
        {
          "output_type": "execute_result",
          "data": {
            "text/plain": [
              "False"
            ]
          },
          "metadata": {
            "tags": []
          },
          "execution_count": 87
        }
      ]
    },
    {
      "cell_type": "code",
      "metadata": {
        "colab": {
          "base_uri": "https://localhost:8080/"
        },
        "id": "3c0cRk4BrE7z",
        "outputId": "0c9a60c8-1833-4f3f-a884-0491383b162d"
      },
      "source": [
        "# (\"난\")이 \"도개걸윳\"에 포함이 되어있지 않음 False\n",
        "str1 in \"도개걸윳\""
      ],
      "id": "3c0cRk4BrE7z",
      "execution_count": null,
      "outputs": [
        {
          "output_type": "execute_result",
          "data": {
            "text/plain": [
              "False"
            ]
          },
          "metadata": {
            "tags": []
          },
          "execution_count": 88
        }
      ]
    }
  ]
}